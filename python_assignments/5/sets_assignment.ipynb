{
 "cells": [
  {
   "cell_type": "markdown",
   "id": "6e0b4eb1",
   "metadata": {},
   "source": [
    "### Assignment 1: Creating and Accessing Sets\n",
    "\n",
    "Create a set with the first 10 positive integers. Print the set."
   ]
  },
  {
   "cell_type": "code",
   "execution_count": 1,
   "id": "83d4f683",
   "metadata": {},
   "outputs": [
    {
     "name": "stdout",
     "output_type": "stream",
     "text": [
      "x : {1, 2, 3, 4, 5, 6, 7, 8, 9, 10}\n"
     ]
    }
   ],
   "source": [
    "x = set(i for i in range(1,11))\n",
    "print(f\"x : {x}\")"
   ]
  },
  {
   "cell_type": "markdown",
   "id": "238ec2c8",
   "metadata": {},
   "source": [
    "### Assignment 2: Adding and Removing Elements\n",
    "\n",
    "Add the number 11 to the set created in Assignment 1. Then remove the number 1 from the set. Print the modified set."
   ]
  },
  {
   "cell_type": "code",
   "execution_count": 2,
   "id": "ebf88de2",
   "metadata": {},
   "outputs": [
    {
     "name": "stdout",
     "output_type": "stream",
     "text": [
      "x: {2, 3, 4, 5, 6, 7, 8, 9, 10, 11}\n"
     ]
    }
   ],
   "source": [
    "x.add(11)\n",
    "x.remove(1)\n",
    "print(f\"x: {x}\")"
   ]
  },
  {
   "cell_type": "markdown",
   "id": "6081cb00",
   "metadata": {},
   "source": [
    "### Assignment 3: Set Operations\n",
    "\n",
    "Create two sets: one with the first 5 positive integers and another with the first 5 even integers. Perform and print the results of union, intersection, difference, and symmetric difference operations on these sets."
   ]
  },
  {
   "cell_type": "code",
   "execution_count": null,
   "id": "a32de35c",
   "metadata": {},
   "outputs": [
    {
     "name": "stdout",
     "output_type": "stream",
     "text": [
      "<class 'set'>\n",
      "Unioun : {1, 2, 3, 4, 5, 6, 8, 10}\n",
      "Intersection : {2, 4}\n",
      "Difference : {1, 3, 5}\n",
      "Symmetric Difference : {1, 3, 5, 6, 8, 10}\n"
     ]
    }
   ],
   "source": [
    "x = {1,2,3,4,5}\n",
    "y = {2,4,6,8,10}\n",
    "\n",
    "print(f\"Unioun : {x.union(y)}\")\n",
    "print(f\"Intersection : {x.intersection(y)}\")\n",
    "print(f\"Difference : {x.difference(y)}\")\n",
    "print(f\"Symmetric Difference : {x.symmetric_difference(y)}\")"
   ]
  },
  {
   "cell_type": "markdown",
   "id": "3a4bc17f",
   "metadata": {},
   "source": [
    "### Assignment 4: Set Comprehensions\n",
    "\n",
    "Create a new set containing the squares of the first 10 positive integers using a set comprehension. Print the new set."
   ]
  },
  {
   "cell_type": "code",
   "execution_count": 4,
   "id": "5f891977",
   "metadata": {},
   "outputs": [
    {
     "name": "stdout",
     "output_type": "stream",
     "text": [
      "{64, 1, 4, 36, 100, 9, 16, 49, 81, 25}\n"
     ]
    }
   ],
   "source": [
    "x = set(i**2 for i in range(1,11))\n",
    "print(x)"
   ]
  },
  {
   "cell_type": "markdown",
   "id": "9ed272d9",
   "metadata": {},
   "source": [
    "### Assignment 5: Filtering Sets\n",
    "\n",
    "Create a new set containing only the even numbers from the set created in Assignment 1 using a set comprehension. Print the new set."
   ]
  },
  {
   "cell_type": "code",
   "execution_count": 5,
   "id": "546a90ea",
   "metadata": {},
   "outputs": [
    {
     "name": "stdout",
     "output_type": "stream",
     "text": [
      "New Set : {2, 4, 6, 8, 10}\n"
     ]
    }
   ],
   "source": [
    "x = set(i for i in range(1,11))\n",
    "y = set(i for i in x if i%2 == 0)\n",
    "print(f\"New Set : {y}\")"
   ]
  },
  {
   "cell_type": "markdown",
   "id": "bf855b45",
   "metadata": {},
   "source": [
    "### Assignment 6: Set Methods\n",
    "\n",
    "Create a set with duplicate elements and remove the duplicates using set methods. Print the modified set."
   ]
  },
  {
   "cell_type": "code",
   "execution_count": 6,
   "id": "73eb7730",
   "metadata": {},
   "outputs": [
    {
     "data": {
      "text/plain": [
       "{0, 1, 2, 3, 5, 6, 7, 8, 9}"
      ]
     },
     "execution_count": 6,
     "metadata": {},
     "output_type": "execute_result"
    }
   ],
   "source": [
    "x = {5,0,7,3,6,1,8,3,7,9,2,5,2,0}\n",
    "x"
   ]
  },
  {
   "cell_type": "markdown",
   "id": "3ded9111",
   "metadata": {},
   "source": [
    "### Assignment 7: Subsets and Supersets\n",
    "\n",
    "Create two sets: one with the first 5 positive integers and another with the first 3 positive integers. Check if the second set is a subset of the first set and if the first set is a superset of the second set. Print the results."
   ]
  },
  {
   "cell_type": "code",
   "execution_count": 7,
   "id": "1a55cf08",
   "metadata": {},
   "outputs": [
    {
     "name": "stdout",
     "output_type": "stream",
     "text": [
      "Subset : True \n",
      "Superset : True\n"
     ]
    }
   ],
   "source": [
    "x = {1,2,3,4,5}\n",
    "y = {1,2,3}\n",
    "\n",
    "print(f\"Subset : {y.issubset(x)} \\nSuperset : {x.issuperset(y)}\")"
   ]
  },
  {
   "cell_type": "markdown",
   "id": "1dc231c5",
   "metadata": {},
   "source": [
    "### Assignment 8: Frozenset\n",
    "\n",
    "Create a frozenset with the first 5 positive integers. Print the frozenset.\n",
    "* It is similar to tuple, the elements can't be changed or modified."
   ]
  },
  {
   "cell_type": "code",
   "execution_count": 16,
   "id": "acdb9f22",
   "metadata": {},
   "outputs": [
    {
     "name": "stdout",
     "output_type": "stream",
     "text": [
      "frozenset({1, 2, 3, 4, 5})\n"
     ]
    }
   ],
   "source": [
    "x = {1,2,3,4,5}\n",
    "print(frozenset(x))"
   ]
  },
  {
   "cell_type": "markdown",
   "id": "16bd5a28",
   "metadata": {},
   "source": [
    "### Assignment 9: Set and List Conversion\n",
    "\n",
    "Create a set with the first 5 positive integers. Convert it to a list, append the number 6, and convert it back to a set. Print the resulting set."
   ]
  },
  {
   "cell_type": "code",
   "execution_count": 11,
   "id": "c265333b",
   "metadata": {},
   "outputs": [
    {
     "name": "stdout",
     "output_type": "stream",
     "text": [
      "{1, 2, 3, 4, 5, 6}\n"
     ]
    }
   ],
   "source": [
    "x = {1,2,3,4,5}\n",
    "x = list(x)\n",
    "x.append(6)\n",
    "x = set(x)\n",
    "print(x)"
   ]
  },
  {
   "cell_type": "markdown",
   "id": "aa7ebef7",
   "metadata": {},
   "source": [
    "### Assignment 10: Set and Dictionary\n",
    "\n",
    "Create a dictionary with set keys and integer values. Print the dictionary."
   ]
  },
  {
   "cell_type": "code",
   "execution_count": 15,
   "id": "d5a51dfb",
   "metadata": {},
   "outputs": [
    {
     "name": "stdout",
     "output_type": "stream",
     "text": [
      "{frozenset({1, 2}): 3, frozenset({4, 5}): 6, frozenset({8, 7}): 9}\n"
     ]
    }
   ],
   "source": [
    "x = {frozenset({1,2}) : 3,\n",
    "     frozenset({4,5}) : 6,\n",
    "     frozenset({7,8}) : 9}\n",
    "print(x)"
   ]
  },
  {
   "cell_type": "markdown",
   "id": "2142bd6b",
   "metadata": {},
   "source": [
    "### Assignment 11: Iterating Over Sets\n",
    "\n",
    "Create a set and iterate over the elements, printing each element."
   ]
  },
  {
   "cell_type": "code",
   "execution_count": 19,
   "id": "caa39b87",
   "metadata": {},
   "outputs": [
    {
     "name": "stdout",
     "output_type": "stream",
     "text": [
      "1 2 3 4 5 6 7 8 9 10 "
     ]
    }
   ],
   "source": [
    "x = {i for i in range(1,11)}\n",
    "for i in x:\n",
    "    print(i, end = \" \")"
   ]
  },
  {
   "cell_type": "markdown",
   "id": "716616d7",
   "metadata": {},
   "source": [
    "### Assignment 12: Removing Elements from Sets\n",
    "\n",
    "Create a set and remove elements from it until it is empty. Print the set after each removal."
   ]
  },
  {
   "cell_type": "code",
   "execution_count": 35,
   "id": "0012a7ab",
   "metadata": {},
   "outputs": [
    {
     "name": "stdout",
     "output_type": "stream",
     "text": [
      "{1, 2, 3, 4, 5, 6, 7, 8, 9}\n",
      "{2, 3, 4, 5, 6, 7, 8, 9}\n",
      "{3, 4, 5, 6, 7, 8, 9}\n",
      "{4, 5, 6, 7, 8, 9}\n",
      "{5, 6, 7, 8, 9}\n",
      "{6, 7, 8, 9}\n",
      "{7, 8, 9}\n",
      "{8, 9}\n",
      "{9}\n"
     ]
    }
   ],
   "source": [
    "x = {i for i in range(1,10)}\n",
    "\n",
    "def rem_ele(x):\n",
    "    if len(x) == 0:\n",
    "        return\n",
    "    else:\n",
    "        print(x)\n",
    "        x.pop()\n",
    "        rem_ele(x)\n",
    "\n",
    "rem_ele(x)"
   ]
  },
  {
   "cell_type": "code",
   "execution_count": 33,
   "id": "8d2926c9",
   "metadata": {},
   "outputs": [
    {
     "name": "stdout",
     "output_type": "stream",
     "text": [
      "{2, 3, 4, 5, 6, 7, 8, 9}\n",
      "{3, 4, 5, 6, 7, 8, 9}\n",
      "{4, 5, 6, 7, 8, 9}\n",
      "{5, 6, 7, 8, 9}\n",
      "{6, 7, 8, 9}\n",
      "{7, 8, 9}\n",
      "{8, 9}\n",
      "{9}\n",
      "set()\n"
     ]
    }
   ],
   "source": [
    "x = {i for i in range(1,10)}\n",
    "\n",
    "while x:\n",
    "    x.pop()\n",
    "    print(x)"
   ]
  },
  {
   "cell_type": "markdown",
   "id": "97ad93e2",
   "metadata": {},
   "source": [
    "### Assignment 13: Set Symmetric Difference Update\n",
    "\n",
    "Create two sets and update the first set with the symmetric difference of the two sets. Print the modified first set."
   ]
  },
  {
   "cell_type": "code",
   "execution_count": 36,
   "id": "1e7b735d",
   "metadata": {},
   "outputs": [
    {
     "name": "stdout",
     "output_type": "stream",
     "text": [
      "{1, 2, 4, 5}\n"
     ]
    }
   ],
   "source": [
    "set1 = {1, 2, 3}\n",
    "set2 = {3, 4, 5}\n",
    "set1.symmetric_difference_update(set2)\n",
    "print(set1)"
   ]
  },
  {
   "cell_type": "markdown",
   "id": "ff82ad45",
   "metadata": {},
   "source": [
    "### Assignment 14: Set Membership Testing\n",
    "\n",
    "Create a set and test if certain elements are present in the set. Print the results."
   ]
  },
  {
   "cell_type": "code",
   "execution_count": 37,
   "id": "db21b8f2",
   "metadata": {},
   "outputs": [
    {
     "name": "stdout",
     "output_type": "stream",
     "text": [
      "True\n",
      "False\n"
     ]
    }
   ],
   "source": [
    "x = {1,2,3,4,5}\n",
    "print(3 in x)\n",
    "print(8 in x)"
   ]
  },
  {
   "cell_type": "markdown",
   "id": "d71bc647",
   "metadata": {},
   "source": [
    "### Assignment 15: Set of Tuples\n",
    "\n",
    "Create a set containing tuples, where each tuple contains two elements. Print the set."
   ]
  },
  {
   "cell_type": "code",
   "execution_count": 38,
   "id": "a8472be4",
   "metadata": {},
   "outputs": [
    {
     "data": {
      "text/plain": [
       "{(1, 2), (2, 3), (3, 4)}"
      ]
     },
     "execution_count": 38,
     "metadata": {},
     "output_type": "execute_result"
    }
   ],
   "source": [
    "x = {(1,2), (2,3), (3,4)}\n",
    "x"
   ]
  }
 ],
 "metadata": {
  "kernelspec": {
   "display_name": "venv",
   "language": "python",
   "name": "python3"
  },
  "language_info": {
   "codemirror_mode": {
    "name": "ipython",
    "version": 3
   },
   "file_extension": ".py",
   "mimetype": "text/x-python",
   "name": "python",
   "nbconvert_exporter": "python",
   "pygments_lexer": "ipython3",
   "version": "3.12.2"
  }
 },
 "nbformat": 4,
 "nbformat_minor": 5
}
