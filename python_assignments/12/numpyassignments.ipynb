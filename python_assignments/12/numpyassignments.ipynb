{
 "cells": [
  {
   "cell_type": "code",
   "execution_count": 1,
   "id": "50256e6c",
   "metadata": {},
   "outputs": [],
   "source": [
    "import random\n",
    "import numpy as np\n",
    "import pandas as pd"
   ]
  },
  {
   "cell_type": "markdown",
   "id": "9572ecd6",
   "metadata": {},
   "source": [
    "### Assignment 1: Array Creation and Manipulation\n",
    "\n",
    "1. Create a NumPy array of shape (5, 5) filled with random integers between 1 and 20. Replace all the elements in the third column with 1.\n",
    "2. Create a NumPy array of shape (4, 4) with values from 1 to 16. Replace the diagonal elements with 0."
   ]
  },
  {
   "cell_type": "code",
   "execution_count": 2,
   "id": "5ab90431",
   "metadata": {},
   "outputs": [
    {
     "name": "stdout",
     "output_type": "stream",
     "text": [
      "Original Array : \n",
      "[[18  4 16 14  7]\n",
      " [14  8  8 14 11]\n",
      " [11  8 16  4  7]\n",
      " [ 2 18 19  5  2]\n",
      " [17 11 16 18  6]]\n",
      "\n",
      "3rd column elements replaced with 1 : \n",
      "[[18  4  1 14  7]\n",
      " [14  8  1 14 11]\n",
      " [11  8  1  4  7]\n",
      " [ 2 18  1  5  2]\n",
      " [17 11  1 18  6]]\n",
      "\n"
     ]
    }
   ],
   "source": [
    "x = np.empty((5,5))\n",
    "x = [[random.randint(2,19) for j in range(5)] for i in range(5)]\n",
    "x = np.array(x)\n",
    "print(f\"Original Array : \\n{x}\\n\")\n",
    "for i in range(5):\n",
    "    x[i][2] = 1\n",
    "print(f\"3rd column elements replaced with 1 : \\n{x}\\n\")"
   ]
  },
  {
   "cell_type": "code",
   "execution_count": 3,
   "id": "c5da3b07",
   "metadata": {},
   "outputs": [
    {
     "name": "stdout",
     "output_type": "stream",
     "text": [
      "Original Array : \n",
      "[[ 3  9 13 17]\n",
      " [18  8  2  7]\n",
      " [ 2 16  9 10]\n",
      " [ 6 10 17 20]]\n",
      "\n",
      "Diagonal elements replaced with 0 : \n",
      "[[ 0  9 13 17]\n",
      " [18  0  2  7]\n",
      " [ 2 16  0 10]\n",
      " [ 6 10 17  0]]\n"
     ]
    }
   ],
   "source": [
    "y = np.empty((4,4))\n",
    "y = [[random.randint(2,20) for j in range(4)] for i in range(4)]\n",
    "y = np.array(y)\n",
    "print(f\"Original Array : \\n{y}\\n\")\n",
    "for i in range(4):\n",
    "    y[i][i] = 0\n",
    "print(f\"Diagonal elements replaced with 0 : \\n{y}\")"
   ]
  },
  {
   "cell_type": "markdown",
   "id": "2b55b560",
   "metadata": {},
   "source": [
    "### Assignment 2: Array Indexing and Slicing\n",
    "\n",
    "1. Create a NumPy array of shape (6, 6) with values from 1 to 36. Extract the sub-array consisting of the 3rd to 5th rows and 2nd to 4th columns.\n",
    "2. Create a NumPy array of shape (5, 5) with random integers. Extract the elements on the border."
   ]
  },
  {
   "cell_type": "code",
   "execution_count": 4,
   "id": "fc91d276",
   "metadata": {},
   "outputs": [
    {
     "name": "stdout",
     "output_type": "stream",
     "text": [
      "Original Array : \n",
      "[[28 36 30 35 23]\n",
      " [22 32 28  6 34]\n",
      " [32 17 12 28 21]\n",
      " [11 35 34 35  7]\n",
      " [36 15  3 30 15]]\n",
      "\n",
      "Sub Array containing rows from 3 to 5 : \n",
      "[[32 17 12 28 21]\n",
      " [11 35 34 35  7]\n",
      " [36 15  3 30 15]]\n",
      "\n",
      "Sub Array containing columns from 2 to 4 : \n",
      "[[36 30 35]\n",
      " [32 28  6]\n",
      " [17 12 28]\n",
      " [35 34 35]\n",
      " [15  3 30]]\n"
     ]
    }
   ],
   "source": [
    "x = np.empty((6,6))\n",
    "x = [[random.randint(1,36) for j in range(5)] for i in range(5)]\n",
    "x = np.array(x)\n",
    "print(f\"Original Array : \\n{x}\\n\")\n",
    "print(f\"Sub Array containing rows from 3 to 5 : \\n{x[2:]}\\n\")\n",
    "print(f\"Sub Array containing columns from 2 to 4 : \\n{x[:,1:4]}\")"
   ]
  },
  {
   "cell_type": "code",
   "execution_count": 5,
   "id": "e080ab30",
   "metadata": {},
   "outputs": [
    {
     "name": "stdout",
     "output_type": "stream",
     "text": [
      "Original Array : \n",
      "[[29 36 23 28 19]\n",
      " [ 5 18  1 34 25]\n",
      " [32 18 22 28 29]\n",
      " [36 16 13 13 26]\n",
      " [36 31 32  4 14]]\n",
      "\n",
      "Border Elements : [29, 19, 36, 14]\n"
     ]
    }
   ],
   "source": [
    "y = np.empty((5,5))\n",
    "y = [[random.randint(1,36) for j in range(5)] for i in range(5)]\n",
    "y = np.array(y)\n",
    "print(f\"Original Array : \\n{y}\\n\")\n",
    "row,col = y.shape\n",
    "print(f\"Border Elements : {[int(y[0][0]), int(y[0][col-1]), int(y[row-1][0]), int(y[row-1][col-1])]}\")"
   ]
  },
  {
   "cell_type": "markdown",
   "id": "f33a7241",
   "metadata": {},
   "source": [
    "### Assignment 3: Array Operations\n",
    "\n",
    "1. Create two NumPy arrays of shape (3, 4) filled with random integers. Perform element-wise addition, subtraction, multiplication, and division.\n",
    "2. Create a NumPy array of shape (4, 4) with values from 1 to 16. Compute the row-wise and column-wise sum."
   ]
  },
  {
   "cell_type": "code",
   "execution_count": 6,
   "id": "429b8e0e",
   "metadata": {},
   "outputs": [
    {
     "name": "stdout",
     "output_type": "stream",
     "text": [
      "Array 1:\n",
      "[[93 24 77 14]\n",
      " [65 90 50 66]\n",
      " [74 73 41 65]]\n",
      "\n",
      "Array 2 :\n",
      "[[71 33 33 82]\n",
      " [16  8 11 95]\n",
      " [89 31 91 80]]\n",
      "\n",
      "Addition of 2 Arrays : \n",
      "[[164  57 110  96]\n",
      " [ 81  98  61 161]\n",
      " [163 104 132 145]]\n",
      "\n",
      "Subtraction of 2 Arrays : \n",
      "[[ 22  -9  44 -68]\n",
      " [ 49  82  39 -29]\n",
      " [-15  42 -50 -15]]\n",
      "\n",
      "Multiplication of 2 Arrays : \n",
      "[[6603  792 2541 1148]\n",
      " [1040  720  550 6270]\n",
      " [6586 2263 3731 5200]]\n",
      "\n",
      "Division of 2 Arrays : \n",
      "[[ 1.30985915  0.72727273  2.33333333  0.17073171]\n",
      " [ 4.0625     11.25        4.54545455  0.69473684]\n",
      " [ 0.83146067  2.35483871  0.45054945  0.8125    ]]\n"
     ]
    }
   ],
   "source": [
    "x = np.empty((3,4))\n",
    "x = [[random.randint(1,100) for j in range(4)] for i in range(3)]\n",
    "x = np.array(x)\n",
    "print(f\"Array 1:\\n{x}\\n\")\n",
    "\n",
    "y = np.empty((3,4))\n",
    "y = [[random.randint(1,100) for j in range(4)] for i in range(3)]\n",
    "y = np.array(y)\n",
    "print(f\"Array 2 :\\n{y}\\n\")\n",
    "\n",
    "print(f\"Addition of 2 Arrays : \\n{x+y}\\n\")\n",
    "print(f\"Subtraction of 2 Arrays : \\n{x-y}\\n\")\n",
    "print(f\"Multiplication of 2 Arrays : \\n{x*y}\\n\")\n",
    "print(f\"Division of 2 Arrays : \\n{x/y}\")"
   ]
  },
  {
   "cell_type": "code",
   "execution_count": 7,
   "id": "3f2bcb86",
   "metadata": {},
   "outputs": [
    {
     "name": "stdout",
     "output_type": "stream",
     "text": [
      "Array :\n",
      "[[ 2 13 10 11]\n",
      " [ 6  9  9  5]\n",
      " [15  6  5  1]\n",
      " [16  1  8  2]]\n",
      "\n",
      "Row-wise Sum : [36 29 27 27]\n",
      "Column-wse Sum : [39 29 32 19]\n"
     ]
    }
   ],
   "source": [
    "x = np.empty((4,4))\n",
    "x = [[random.randint(1,16) for j in range(4)] for i in range(4)]\n",
    "x = np.array(x)\n",
    "print(f\"Array :\\n{x}\\n\")\n",
    "\n",
    "row_sum = np.sum(x, axis=1)\n",
    "col_sum = np.sum(x, axis=0)\n",
    "\n",
    "print(f\"Row-wise Sum : {row_sum}\")\n",
    "print(f\"Column-wse Sum : {col_sum}\")\n"
   ]
  },
  {
   "cell_type": "markdown",
   "id": "9921e151",
   "metadata": {},
   "source": [
    "### Assignment 4: Statistical Operations\n",
    "\n",
    "1. Create a NumPy array of shape (5, 5) filled with random integers. Compute the mean, median, standard deviation, and variance of the array.\n",
    "2. Create a NumPy array of shape (3, 3) with values from 1 to 9. Normalize the array (i.e., scale the values to have a mean of 0 and a standard deviation of 1)."
   ]
  },
  {
   "cell_type": "code",
   "execution_count": 8,
   "id": "f400fa25",
   "metadata": {},
   "outputs": [
    {
     "name": "stdout",
     "output_type": "stream",
     "text": [
      "Array :\n",
      "[[14  4 14 80 85]\n",
      " [21 96 55 26 57]\n",
      " [56 42 95 14 21]\n",
      " [ 6 23 54 13 47]\n",
      " [61 20 71 98 99]]\n",
      "\n",
      "Mean : 46.88\n",
      "Median : 47.0\n",
      "Standard Deviation : 31.422692437154392\n",
      "Variance : 987.3856\n"
     ]
    }
   ],
   "source": [
    "x = np.empty((5,5))\n",
    "x = [[random.randint(1,100) for j in range(5)] for i in range(5)]\n",
    "x = np.array(x)\n",
    "print(f\"Array :\\n{x}\\n\")\n",
    "\n",
    "print(f\"Mean : {np.mean(x)}\")\n",
    "print(f\"Median : {np.median(x)}\")\n",
    "print(f\"Standard Deviation : {np.std(x)}\")\n",
    "print(f\"Variance : {np.var(x)}\")"
   ]
  },
  {
   "cell_type": "code",
   "execution_count": 9,
   "id": "3759365a",
   "metadata": {},
   "outputs": [
    {
     "name": "stdout",
     "output_type": "stream",
     "text": [
      "Array : \n",
      "[[7 4 3]\n",
      " [4 7 8]\n",
      " [3 5 4]]\n",
      "\n",
      "Normalization :\n",
      "[[ 1.13389342 -0.56694671 -1.13389342]\n",
      " [-0.56694671  1.13389342  1.70084013]\n",
      " [-1.13389342  0.         -0.56694671]]\n"
     ]
    }
   ],
   "source": [
    "y = np.empty((3,3))\n",
    "y = [[random.randint(1,9) for j in range(3)] for i in range(3)]\n",
    "y = np.array(y)\n",
    "print(f\"Array : \\n{y}\\n\")\n",
    "\n",
    "norm = (y-np.mean(y))/np.std(y)\n",
    "print(f\"Normalization :\\n{norm}\")"
   ]
  },
  {
   "cell_type": "markdown",
   "id": "26943180",
   "metadata": {},
   "source": [
    "### Assignment 5: Broadcasting\n",
    "\n",
    "1. Create a NumPy array of shape (3, 3) filled with random integers. Add a 1D array of shape (3,) to each row of the 2D array using broadcasting.\n",
    "2. Create a NumPy array of shape (4, 4) filled with random integers. Subtract a 1D array of shape (4,) from each column of the 2D array using broadcasting."
   ]
  },
  {
   "cell_type": "code",
   "execution_count": 25,
   "id": "149e30b8",
   "metadata": {},
   "outputs": [
    {
     "name": "stdout",
     "output_type": "stream",
     "text": [
      "2D Array : \n",
      "[[57 77 35]\n",
      " [85 12 22]\n",
      " [18 23 77]]\n",
      "\n",
      "1D Array : \n",
      "[98 60 58]\n",
      "\n",
      "Adding 1D array to each row of 2D Array : \n",
      "[[155 137  93]\n",
      " [183  72  80]\n",
      " [116  83 135]]\n"
     ]
    }
   ],
   "source": [
    "x = np.random.randint(1,100, size=(3,3))\n",
    "y = np.random.randint(1,100, size=(3))\n",
    "print(f\"2D Array : \\n{x}\\n\\n1D Array : \\n{y}\\n\")\n",
    "\n",
    "print(f\"Adding 1D array to each row of 2D Array : \\n{x+y}\")"
   ]
  },
  {
   "cell_type": "code",
   "execution_count": null,
   "id": "8958dd90",
   "metadata": {},
   "outputs": [],
   "source": []
  },
  {
   "cell_type": "markdown",
   "id": "18e7f287",
   "metadata": {},
   "source": [
    "### Assignment 6: Linear Algebra\n",
    "\n",
    "1. Create a NumPy array of shape (3, 3) representing a matrix. Compute its determinant, inverse, and eigenvalues.\n",
    "2. Create two NumPy arrays of shape (2, 3) and (3, 2). Perform matrix multiplication on these arrays."
   ]
  },
  {
   "cell_type": "markdown",
   "id": "fbcd66bc",
   "metadata": {},
   "source": [
    "### Assignment 7: Advanced Array Manipulation\n",
    "\n",
    "1. Create a NumPy array of shape (3, 3) with values from 1 to 9. Reshape the array to shape (1, 9) and then to shape (9, 1).\n",
    "2. Create a NumPy array of shape (5, 5) filled with random integers. Flatten the array and then reshape it back to (5, 5)."
   ]
  },
  {
   "cell_type": "markdown",
   "id": "7bd7d510",
   "metadata": {},
   "source": [
    "### Assignment 8: Fancy Indexing and Boolean Indexing\n",
    "\n",
    "1. Create a NumPy array of shape (5, 5) filled with random integers. Use fancy indexing to extract the elements at the corners of the array.\n",
    "2. Create a NumPy array of shape (4, 4) filled with random integers. Use boolean indexing to set all elements greater than 10 to 10."
   ]
  },
  {
   "cell_type": "markdown",
   "id": "1faae3dd",
   "metadata": {},
   "source": [
    "### Assignment 9: Structured Arrays\n",
    "\n",
    "1. Create a structured array with fields 'name' (string), 'age' (integer), and 'weight' (float). Add some data and sort the array by age.\n",
    "2. Create a structured array with fields 'x' and 'y' (both integers). Add some data and compute the Euclidean distance between each pair of points."
   ]
  },
  {
   "cell_type": "markdown",
   "id": "9ca5d9cc",
   "metadata": {},
   "source": [
    "### Assignment 10: Masked Arrays\n",
    "\n",
    "1. Create a masked array of shape (4, 4) with random integers and mask the elements greater than 10. Compute the sum of the unmasked elements.\n",
    "2. Create a masked array of shape (3, 3) with random integers and mask the diagonal elements. Replace the masked elements with the mean of the unmasked elements."
   ]
  }
 ],
 "metadata": {
  "kernelspec": {
   "display_name": "venv",
   "language": "python",
   "name": "python3"
  },
  "language_info": {
   "codemirror_mode": {
    "name": "ipython",
    "version": 3
   },
   "file_extension": ".py",
   "mimetype": "text/x-python",
   "name": "python",
   "nbconvert_exporter": "python",
   "pygments_lexer": "ipython3",
   "version": "3.12.2"
  }
 },
 "nbformat": 4,
 "nbformat_minor": 5
}
