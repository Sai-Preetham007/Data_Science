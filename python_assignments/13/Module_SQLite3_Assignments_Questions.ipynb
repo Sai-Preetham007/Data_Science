{
 "cells": [
  {
   "cell_type": "code",
   "execution_count": 1,
   "id": "3d226c91",
   "metadata": {},
   "outputs": [],
   "source": [
    "import sqlite3"
   ]
  },
  {
   "cell_type": "markdown",
   "id": "e12fda27",
   "metadata": {},
   "source": [
    "### Assignment 1: Creating and Connecting to a Database\n",
    "\n",
    "1. Write a Python function to create a new SQLite3 database named `test.db`.\n",
    "2. Write a Python function to create a table named `employees` with columns `id` (integer), `name` (text), `age` (integer), and `department` (text) in the `test.db` database."
   ]
  },
  {
   "cell_type": "code",
   "execution_count": 2,
   "id": "11453cf0",
   "metadata": {},
   "outputs": [
    {
     "data": {
      "text/plain": [
       "<sqlite3.Connection at 0x2035208ce50>"
      ]
     },
     "execution_count": 2,
     "metadata": {},
     "output_type": "execute_result"
    }
   ],
   "source": [
    "connection = sqlite3.connect(\"test.db\")\n",
    "connection"
   ]
  },
  {
   "cell_type": "code",
   "execution_count": 3,
   "id": "387af516",
   "metadata": {},
   "outputs": [],
   "source": [
    "cursor = connection.cursor()\n",
    "\n",
    "cursor.execute('''\n",
    "create table if not exists employees(id int primarykey, name text not null, age int not null, dept text not null)\n",
    "''')\n",
    "\n",
    "connection.commit()"
   ]
  },
  {
   "cell_type": "code",
   "execution_count": 4,
   "id": "f79dfcf4",
   "metadata": {},
   "outputs": [
    {
     "data": {
      "text/plain": [
       "<sqlite3.Cursor at 0x2035225d5c0>"
      ]
     },
     "execution_count": 4,
     "metadata": {},
     "output_type": "execute_result"
    }
   ],
   "source": [
    "connection.execute(\"select * from employees\")"
   ]
  },
  {
   "cell_type": "markdown",
   "id": "2c86827b",
   "metadata": {},
   "source": [
    "### Assignment 2: Inserting Data\n",
    "\n",
    "1. Write a Python function to insert a new employee into the `employees` table.\n",
    "2. Insert at least 5 different employees into the `employees` table."
   ]
  },
  {
   "cell_type": "code",
   "execution_count": 5,
   "id": "0749fe07",
   "metadata": {},
   "outputs": [
    {
     "data": {
      "text/plain": [
       "<sqlite3.Cursor at 0x203522813c0>"
      ]
     },
     "execution_count": 5,
     "metadata": {},
     "output_type": "execute_result"
    }
   ],
   "source": [
    "connection.execute(\"insert into employees values(1, 'Sai Preetham', 24, 'Data Engineer')\")"
   ]
  },
  {
   "cell_type": "code",
   "execution_count": 6,
   "id": "4650b2da",
   "metadata": {},
   "outputs": [
    {
     "data": {
      "text/plain": [
       "<sqlite3.Cursor at 0x203522833c0>"
      ]
     },
     "execution_count": 6,
     "metadata": {},
     "output_type": "execute_result"
    }
   ],
   "source": [
    "connection.execute(\"insert into employees values(2, 'Krishna Chaitanya', 22, 'Doctor')\")"
   ]
  },
  {
   "cell_type": "markdown",
   "id": "a61d6cd1",
   "metadata": {},
   "source": [
    "* Inserting multiple data"
   ]
  },
  {
   "cell_type": "code",
   "execution_count": 7,
   "id": "57c7dda0",
   "metadata": {},
   "outputs": [
    {
     "data": {
      "text/plain": [
       "<sqlite3.Cursor at 0x203522828c0>"
      ]
     },
     "execution_count": 7,
     "metadata": {},
     "output_type": "execute_result"
    }
   ],
   "source": [
    "records = [(3, \"Subhashini\", 40, \"House Wife\"),\n",
    "           (4, \"Venkateswara\", 52, \"Business Man\"),\n",
    "           (5, \"Bhargava\", 22, \"Student\"),\n",
    "           (6, \"Cintu\", 23, \"Student\")]\n",
    "\n",
    "connection.executemany(\"insert into employees values(?,?,?,?)\", records)"
   ]
  },
  {
   "cell_type": "markdown",
   "id": "c52d38ba",
   "metadata": {},
   "source": [
    "### Assignment 3: Querying Data\n",
    "\n",
    "1. Write a Python function to fetch and display all records from the `employees` table.\n",
    "2. Write a Python function to fetch and display all employees from a specific department."
   ]
  },
  {
   "cell_type": "code",
   "execution_count": 8,
   "id": "2e324d71",
   "metadata": {},
   "outputs": [
    {
     "data": {
      "text/plain": [
       "[(1, 'Sai Preetham', 24, 'Data Engineer'),\n",
       " (2, 'Krishna Chaitanya', 22, 'Doctor'),\n",
       " (3, 'Subhashini', 40, 'House Wife'),\n",
       " (4, 'Venkateswara', 52, 'Business Man'),\n",
       " (5, 'Bhargava', 22, 'Student'),\n",
       " (6, 'Cintu', 23, 'Student')]"
      ]
     },
     "execution_count": 8,
     "metadata": {},
     "output_type": "execute_result"
    }
   ],
   "source": [
    "data = connection.execute(\"select * from employees\").fetchall()\n",
    "data"
   ]
  },
  {
   "cell_type": "code",
   "execution_count": 9,
   "id": "7ddbb586",
   "metadata": {},
   "outputs": [
    {
     "data": {
      "text/plain": [
       "[(5, 'Bhargava', 22, 'Student'), (6, 'Cintu', 23, 'Student')]"
      ]
     },
     "execution_count": 9,
     "metadata": {},
     "output_type": "execute_result"
    }
   ],
   "source": [
    "connection.execute(\"select * from employees where dept=='Student'\").fetchall()"
   ]
  },
  {
   "cell_type": "markdown",
   "id": "216d7427",
   "metadata": {},
   "source": [
    "### Assignment 4: Updating Data\n",
    "\n",
    "1. Write a Python function to update the department of an employee based on their `id`.\n",
    "2. Update the department of at least 2 employees and display the updated records."
   ]
  },
  {
   "cell_type": "code",
   "execution_count": 10,
   "id": "2e0450bd",
   "metadata": {},
   "outputs": [
    {
     "data": {
      "text/plain": [
       "<sqlite3.Cursor at 0x20352282a40>"
      ]
     },
     "execution_count": 10,
     "metadata": {},
     "output_type": "execute_result"
    }
   ],
   "source": [
    "connection.execute(\"update employees set dept='Student' where id=2\")"
   ]
  },
  {
   "cell_type": "code",
   "execution_count": 11,
   "id": "ee8244e3",
   "metadata": {},
   "outputs": [
    {
     "data": {
      "text/plain": [
       "[(1, 'Sai Preetham', 24, 'Data Engineer'),\n",
       " (2, 'Krishna Chaitanya', 22, 'Student'),\n",
       " (3, 'Subhashini', 40, 'House Wife'),\n",
       " (4, 'Venkateswara', 52, 'Business Man'),\n",
       " (5, 'Bhargava', 22, 'Student'),\n",
       " (6, 'Cintu', 23, 'Student')]"
      ]
     },
     "execution_count": 11,
     "metadata": {},
     "output_type": "execute_result"
    }
   ],
   "source": [
    "connection.execute(\"select * from employees\").fetchall()"
   ]
  },
  {
   "cell_type": "markdown",
   "id": "83f9f0dc",
   "metadata": {},
   "source": [
    "### Assignment 5: Deleting Data\n",
    "\n",
    "1. Write a Python function to delete an employee from the `employees` table based on their `id`.\n",
    "2. Delete at least 1 employee and display the remaining records."
   ]
  },
  {
   "cell_type": "code",
   "execution_count": 12,
   "id": "798bd642",
   "metadata": {},
   "outputs": [
    {
     "data": {
      "text/plain": [
       "<sqlite3.Cursor at 0x20352281640>"
      ]
     },
     "execution_count": 12,
     "metadata": {},
     "output_type": "execute_result"
    }
   ],
   "source": [
    "connection.execute(\"delete from employees where id=6\")"
   ]
  },
  {
   "cell_type": "code",
   "execution_count": 13,
   "id": "d4247bd0",
   "metadata": {},
   "outputs": [
    {
     "data": {
      "text/plain": [
       "[(1, 'Sai Preetham', 24, 'Data Engineer'),\n",
       " (2, 'Krishna Chaitanya', 22, 'Student'),\n",
       " (3, 'Subhashini', 40, 'House Wife'),\n",
       " (4, 'Venkateswara', 52, 'Business Man'),\n",
       " (5, 'Bhargava', 22, 'Student')]"
      ]
     },
     "execution_count": 13,
     "metadata": {},
     "output_type": "execute_result"
    }
   ],
   "source": [
    "connection.execute(\"select * from employees\").fetchall()"
   ]
  },
  {
   "cell_type": "markdown",
   "id": "d4b930d0",
   "metadata": {},
   "source": [
    "### Assignment 6: Advanced Queries\n",
    "\n",
    "1. Write a Python function to fetch and display employees older than a certain age.\n",
    "2. Write a Python function to fetch and display employees whose names start with a specific letter."
   ]
  },
  {
   "cell_type": "code",
   "execution_count": 14,
   "id": "07d2de23",
   "metadata": {},
   "outputs": [
    {
     "data": {
      "text/plain": [
       "[(1, 'Sai Preetham', 24, 'Data Engineer'),\n",
       " (3, 'Subhashini', 40, 'House Wife'),\n",
       " (4, 'Venkateswara', 52, 'Business Man')]"
      ]
     },
     "execution_count": 14,
     "metadata": {},
     "output_type": "execute_result"
    }
   ],
   "source": [
    "connection.execute(\"select * from employees where age>22\").fetchall()"
   ]
  },
  {
   "cell_type": "code",
   "execution_count": 15,
   "id": "7749f646",
   "metadata": {},
   "outputs": [
    {
     "data": {
      "text/plain": [
       "[(1, 'Sai Preetham', 24, 'Data Engineer'), (3, 'Subhashini', 40, 'House Wife')]"
      ]
     },
     "execution_count": 15,
     "metadata": {},
     "output_type": "execute_result"
    }
   ],
   "source": [
    "connection.execute(\"select * from employees where name like 'S%'\").fetchall()"
   ]
  },
  {
   "cell_type": "markdown",
   "id": "8ed59e03",
   "metadata": {},
   "source": [
    "### Assignment 7: Handling Transactions\n",
    "\n",
    "1. Write a Python function to insert multiple employees into the `employees` table in a single transaction. Ensure that if any insertion fails, none of the insertions are committed.\n",
    "2. Write a Python function to update the age of multiple employees in a single transaction. Ensure that if any update fails, none of the updates are committed."
   ]
  },
  {
   "cell_type": "markdown",
   "id": "f467c702",
   "metadata": {},
   "source": [
    "### Assignment 8: Creating Relationships\n",
    "\n",
    "1. Create a new table named `departments` with columns `id` (integer) and `name` (text).\n",
    "2. Modify the `employees` table to include a foreign key referencing the `id` column in the `departments` table.\n",
    "3. Write a Python function to insert data into both the `departments` and `employees` tables, ensuring referential integrity."
   ]
  },
  {
   "cell_type": "markdown",
   "id": "b56e0b97",
   "metadata": {},
   "source": [
    "### Assignment 9: Indexing and Optimization\n",
    "\n",
    "1. Create an index on the `name` column of the `employees` table.\n",
    "2. Write a Python function to fetch and display all employees whose names start with a specific letter. Compare the performance with and without the index."
   ]
  },
  {
   "cell_type": "markdown",
   "id": "f1864fc1",
   "metadata": {},
   "source": [
    "### Assignment 10: Backing Up and Restoring Data\n",
    "\n",
    "1. Write a Python function to back up the `test.db` database to a file named `backup.db`.\n",
    "2. Write a Python function to restore the `test.db` database from the `backup.db` file."
   ]
  }
 ],
 "metadata": {
  "kernelspec": {
   "display_name": "venv",
   "language": "python",
   "name": "python3"
  },
  "language_info": {
   "codemirror_mode": {
    "name": "ipython",
    "version": 3
   },
   "file_extension": ".py",
   "mimetype": "text/x-python",
   "name": "python",
   "nbconvert_exporter": "python",
   "pygments_lexer": "ipython3",
   "version": "3.12.2"
  }
 },
 "nbformat": 4,
 "nbformat_minor": 5
}
