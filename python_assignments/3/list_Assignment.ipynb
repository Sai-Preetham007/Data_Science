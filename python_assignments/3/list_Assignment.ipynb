{
 "cells": [
  {
   "cell_type": "markdown",
   "id": "b6dcbd0d",
   "metadata": {},
   "source": [
    "### Assignment 1: Creating and Accessing Lists\n",
    "\n",
    "Create a list of the first 20 positive integers. Print the list."
   ]
  },
  {
   "cell_type": "code",
   "execution_count": 1,
   "id": "8880ec67",
   "metadata": {},
   "outputs": [
    {
     "name": "stdout",
     "output_type": "stream",
     "text": [
      "[1, 2, 3, 4, 5, 6, 7, 8, 9, 10, 11, 12, 13, 14, 15, 16, 17, 18, 19, 20]\n"
     ]
    }
   ],
   "source": [
    "x = []\n",
    "for i in range(1, 21):\n",
    "    x.append(i)\n",
    "print(x)"
   ]
  },
  {
   "cell_type": "markdown",
   "id": "7177533f",
   "metadata": {},
   "source": [
    "### Assignment 2: Accessing List Elements\n",
    "\n",
    "Print the first, middle, and last elements of the list created in Assignment 1."
   ]
  },
  {
   "cell_type": "code",
   "execution_count": 2,
   "id": "5a89aebf",
   "metadata": {},
   "outputs": [
    {
     "name": "stdout",
     "output_type": "stream",
     "text": [
      "First Element : 1\n",
      "Middle Element : 10\n",
      "Last Element : 20\n"
     ]
    }
   ],
   "source": [
    "print(f\"First Element : {x[0]}\")\n",
    "print(f\"Middle Element : {x[(len(x)//2)-1]}\")\n",
    "print(f\"Last Element : {x[-1]}\")"
   ]
  },
  {
   "cell_type": "markdown",
   "id": "a706a135",
   "metadata": {},
   "source": [
    "### Assignment 3: List Slicing\n",
    "\n",
    "Print the first five elements, the last five elements, and the elements from index 5 to 15 of the list created in Assignment 1."
   ]
  },
  {
   "cell_type": "code",
   "execution_count": 3,
   "id": "247561e4",
   "metadata": {},
   "outputs": [
    {
     "name": "stdout",
     "output_type": "stream",
     "text": [
      "First 5 Elements : [1, 2, 3, 4, 5]\n",
      "Last 5 Elements : [16, 17, 18, 19, 20]\n",
      "Last 5 Elements in reverse order : [20, 19, 18, 17, 16]\n",
      "Index 5 to 15 Elements : [6, 7, 8, 9, 10, 11, 12, 13, 14, 15]\n"
     ]
    }
   ],
   "source": [
    "print(f\"First 5 Elements : {x[:5]}\")\n",
    "print(f\"Last 5 Elements : {x[-5:]}\")\n",
    "print(f\"Last 5 Elements in reverse order : {x[:-6:-1]}\")\n",
    "print(f\"Index 5 to 15 Elements : {x[5:15]}\")"
   ]
  },
  {
   "cell_type": "markdown",
   "id": "7b2b2ad5",
   "metadata": {},
   "source": [
    "### Assignment 4: List Comprehensions\n",
    "\n",
    "Create a new list containing the squares of the first 10 positive integers using a list comprehension. Print the new list."
   ]
  },
  {
   "cell_type": "code",
   "execution_count": 4,
   "id": "4ef6ed6d",
   "metadata": {},
   "outputs": [
    {
     "data": {
      "text/plain": [
       "[1, 4, 9, 16, 25, 36, 49, 64, 81, 100]"
      ]
     },
     "execution_count": 4,
     "metadata": {},
     "output_type": "execute_result"
    }
   ],
   "source": [
    "[i**2 for i in range(1, 11)]"
   ]
  },
  {
   "cell_type": "markdown",
   "id": "b618c1b0",
   "metadata": {},
   "source": [
    "### Assignment 5: Filtering Lists\n",
    "\n",
    "Create a new list containing only the even numbers from the list created in Assignment 1 using a list comprehension. Print the new list."
   ]
  },
  {
   "cell_type": "code",
   "execution_count": 5,
   "id": "ea46f900",
   "metadata": {},
   "outputs": [
    {
     "data": {
      "text/plain": [
       "[2, 4, 6, 8, 10]"
      ]
     },
     "execution_count": 5,
     "metadata": {},
     "output_type": "execute_result"
    }
   ],
   "source": [
    "[i for i in range(1, 11) if i%2==0]"
   ]
  },
  {
   "cell_type": "markdown",
   "id": "1648f517",
   "metadata": {},
   "source": [
    "### Assignment 6: List Methods\n",
    "\n",
    "Create a list of random numbers and sort it in ascending and descending order. Remove the duplicates from the list and print the modified list."
   ]
  },
  {
   "cell_type": "code",
   "execution_count": 6,
   "id": "d9338313",
   "metadata": {},
   "outputs": [
    {
     "name": "stdout",
     "output_type": "stream",
     "text": [
      "Ascending Order : [0, 1, 2, 3, 3, 4, 5, 5, 6, 7, 8, 9]\n",
      "Descending Order : [9, 8, 7, 6, 5, 5, 4, 3, 3, 2, 1, 0]\n",
      "Modified List : {0, 1, 2, 3, 4, 5, 6, 7, 8, 9}\n"
     ]
    }
   ],
   "source": [
    "temp = [5,0,3,6,8,2,7,9,1,4,5,3]\n",
    "temp.sort()\n",
    "print(f\"Ascending Order : {temp}\")\n",
    "temp.sort(reverse=True)\n",
    "print(f\"Descending Order : {temp}\")\n",
    "temp.sort()\n",
    "temp = set(temp)\n",
    "print(f\"Modified List : {temp}\")"
   ]
  },
  {
   "cell_type": "markdown",
   "id": "f493418c",
   "metadata": {},
   "source": [
    "### Assignment 7: Nested Lists\n",
    "\n",
    "Create a nested list representing a 3x3 matrix and print the matrix. Access and print the element at the second row and third column."
   ]
  },
  {
   "cell_type": "code",
   "execution_count": 7,
   "id": "7f74adde",
   "metadata": {},
   "outputs": [
    {
     "name": "stdout",
     "output_type": "stream",
     "text": [
      "Matrix :\n",
      "[1, 2, 3]\n",
      "[4, 5, 6]\n",
      "[7, 8, 9]\n",
      "\n",
      "Element at 2nd row and 3rd column : 6\n"
     ]
    }
   ],
   "source": [
    "x = [[1,2,3], [4,5,6], [7,8,9]]\n",
    "print(\"Matrix :\")\n",
    "for i in x:\n",
    "    print(i)\n",
    "print(f\"\\nElement at 2nd row and 3rd column : {x[1][2]}\")"
   ]
  },
  {
   "cell_type": "markdown",
   "id": "38249a53",
   "metadata": {},
   "source": [
    "### Assignment 8: List of Dictionaries\n",
    "\n",
    "Create a list of dictionaries where each dictionary represents a student with keys 'name' and 'score'. Sort the list of dictionaries by the 'score' in descending order and print the sorted list."
   ]
  },
  {
   "cell_type": "code",
   "execution_count": 8,
   "id": "c427f48f",
   "metadata": {},
   "outputs": [
    {
     "name": "stdout",
     "output_type": "stream",
     "text": [
      "[{'Name': 'Krishna', 'Score': 97}, {'Name': 'Preetham', 'Score': 92}, {'Name': 'Sai', 'Score': 85}, {'Name': 'Barghav', 'Score': 75}, {'Name': 'Cintu', 'Score': 60}]\n"
     ]
    }
   ],
   "source": [
    "x = [{\"Name\" : \"Sai\", \"Score\" : 85},\n",
    "     {\"Name\" : \"Krishna\", \"Score\" : 97},\n",
    "     {\"Name\" : \"Barghav\", \"Score\" : 75},\n",
    "     {\"Name\" : \"Cintu\", \"Score\" : 60},\n",
    "     {\"Name\" : \"Preetham\", \"Score\" : 92}]\n",
    "\n",
    "def get_score(x):\n",
    "    return x[\"Score\"]\n",
    "\n",
    "x.sort(key=get_score, reverse=True)\n",
    "print(x)"
   ]
  },
  {
   "cell_type": "markdown",
   "id": "eaa045e9",
   "metadata": {},
   "source": [
    "### Assignment 9: Matrix Transposition\n",
    "\n",
    "Write a function that takes a 3x3 matrix (nested list) as input and returns its transpose. Print the original and transposed matrices."
   ]
  },
  {
   "cell_type": "code",
   "execution_count": 9,
   "id": "935ae41b",
   "metadata": {},
   "outputs": [
    {
     "name": "stdout",
     "output_type": "stream",
     "text": [
      "Original Matrix :\n",
      "[1, 2, 3]\n",
      "[4, 5, 6]\n",
      "[7, 8, 9]\n",
      "\n",
      "Transposed Matrix :\n",
      "[1, 4, 7]\n",
      "[2, 5, 8]\n",
      "[3, 6, 9]\n"
     ]
    }
   ],
   "source": [
    "x = [[1,2,3],\n",
    "     [4,5,6],\n",
    "     [7,8,9]]\n",
    "print(\"Original Matrix :\")\n",
    "for i in x:\n",
    "    print(i)\n",
    "\n",
    "y = [[x[i][j] for i in range(len(x))] for j in range(len(x[0]))]\n",
    "print(\"\\nTransposed Matrix :\")\n",
    "for i in y:\n",
    "    print(i)"
   ]
  },
  {
   "cell_type": "markdown",
   "id": "ec32fa3e",
   "metadata": {},
   "source": [
    "### Assignment 10: Flattening a Nested List\n",
    "\n",
    "Write a function that takes a nested list and flattens it into a single list. Print the original and flattened lists."
   ]
  },
  {
   "cell_type": "code",
   "execution_count": 10,
   "id": "666acc48",
   "metadata": {},
   "outputs": [
    {
     "name": "stdout",
     "output_type": "stream",
     "text": [
      "Original Matrix :\n",
      "[1, 2, 3]\n",
      "[4, 5, 6]\n",
      "[7, 8, 9]\n",
      "\n",
      "Flattened List :\n",
      "[1, 2, 3, 4, 5, 6, 7, 8, 9]\n"
     ]
    }
   ],
   "source": [
    "x = [[1,2,3],\n",
    "     [4,5,6],\n",
    "     [7,8,9]]\n",
    "print(\"Original Matrix :\")\n",
    "for i in x:\n",
    "    print(i)\n",
    "\n",
    "print(\"\\nFlattened List :\")\n",
    "y = [j for i in x for j in i]\n",
    "print(y)"
   ]
  },
  {
   "cell_type": "markdown",
   "id": "ef549b38",
   "metadata": {},
   "source": [
    "### Assignment 11: List Manipulation\n",
    "\n",
    "Create a list of the first 10 positive integers. Remove the elements at indices 2, 4, and 6, and insert the element '99' at index 5. Print the modified list."
   ]
  },
  {
   "cell_type": "code",
   "execution_count": 11,
   "id": "da137006",
   "metadata": {},
   "outputs": [
    {
     "name": "stdout",
     "output_type": "stream",
     "text": [
      "Original list : [1, 2, 3, 4, 5, 6, 7, 8, 9, 10]\n",
      "Modified List : [1, 2, 4, 6, 8, 99, 9, 10]\n"
     ]
    }
   ],
   "source": [
    "x = [i for i in range(1, 11)]\n",
    "print(f\"Original list : {x}\")\n",
    "x.pop(6)\n",
    "x.pop(4)\n",
    "x.pop(2)\n",
    "x.insert(5, 99)\n",
    "print(f\"Modified List : {x}\")"
   ]
  },
  {
   "cell_type": "markdown",
   "id": "bc37e459",
   "metadata": {},
   "source": [
    "### Assignment 12: List Zipping\n",
    "\n",
    "Create two lists of the same length. Use the `zip` function to combine these lists into a list of tuples and print the result."
   ]
  },
  {
   "cell_type": "code",
   "execution_count": 12,
   "id": "a415c1f8",
   "metadata": {},
   "outputs": [
    {
     "name": "stdout",
     "output_type": "stream",
     "text": [
      "Result : [(1, 'a'), (2, 'b'), (3, 'c'), (4, 'd'), (5, 'e')]\n"
     ]
    }
   ],
   "source": [
    "x = [1, 2, 3, 4, 5]\n",
    "y = [\"a\", \"b\", \"c\", \"d\", \"e\"]\n",
    "\n",
    "z = list(zip(x,y))\n",
    "print(f\"Result : {z}\")"
   ]
  },
  {
   "cell_type": "markdown",
   "id": "9e7ffc24",
   "metadata": {},
   "source": [
    "### Assignment 13: List Reversal\n",
    "\n",
    "Write a function that takes a list and returns a new list with the elements in reverse order. Print the original and reversed lists."
   ]
  },
  {
   "cell_type": "code",
   "execution_count": 13,
   "id": "75d3c1d2",
   "metadata": {},
   "outputs": [
    {
     "name": "stdout",
     "output_type": "stream",
     "text": [
      "Original List : [1, 2, 3, 4, 5] \n",
      "Reversed List : [5, 4, 3, 2, 1]\n"
     ]
    }
   ],
   "source": [
    "x = [1, 2, 3, 4, 5]\n",
    "\n",
    "def reversed_list(x):\n",
    "    return x[::-1]\n",
    "\n",
    "print(f\"Original List : {x} \\nReversed List : {reversed_list(x)}\")"
   ]
  },
  {
   "cell_type": "markdown",
   "id": "649d8baa",
   "metadata": {},
   "source": [
    "### Assignment 14: List Rotation\n",
    "\n",
    "Write a function that rotates a list by n positions. Print the original and rotated lists."
   ]
  },
  {
   "cell_type": "code",
   "execution_count": 14,
   "id": "30ea017c",
   "metadata": {},
   "outputs": [
    {
     "name": "stdout",
     "output_type": "stream",
     "text": [
      "Original List : [1, 2, 3, 4, 5] \n",
      "Rotation List : [3, 4, 5, 1, 2]\n"
     ]
    }
   ],
   "source": [
    "x = [1, 2, 3, 4, 5]\n",
    "\n",
    "def rotation_list(x, n):\n",
    "    return x[n:]+x[:n]\n",
    "\n",
    "print(f\"Original List : {x} \\nRotation List : {rotation_list(x, 2)}\")"
   ]
  },
  {
   "cell_type": "markdown",
   "id": "b8d31fbe",
   "metadata": {},
   "source": [
    "### Assignment 15: List Intersection\n",
    "\n",
    "Write a function that takes two lists and returns a new list containing only the elements that are present in both lists. Print the intersected list."
   ]
  },
  {
   "cell_type": "code",
   "execution_count": 15,
   "id": "f88691c2",
   "metadata": {},
   "outputs": [
    {
     "name": "stdout",
     "output_type": "stream",
     "text": [
      "Intersected List : [1, 2, 5, 8]\n"
     ]
    }
   ],
   "source": [
    "x = [1,2,3,4,5,6,7,8,9,10]\n",
    "y = [2,5,8,12,15,18,20,1]\n",
    "\n",
    "def common(x,y):\n",
    "    return [i for i in x if i in y]\n",
    "print(f\"Intersected List : {common(x,y)}\")"
   ]
  }
 ],
 "metadata": {
  "kernelspec": {
   "display_name": "venv",
   "language": "python",
   "name": "python3"
  },
  "language_info": {
   "codemirror_mode": {
    "name": "ipython",
    "version": 3
   },
   "file_extension": ".py",
   "mimetype": "text/x-python",
   "name": "python",
   "nbconvert_exporter": "python",
   "pygments_lexer": "ipython3",
   "version": "3.12.2"
  }
 },
 "nbformat": 4,
 "nbformat_minor": 5
}
