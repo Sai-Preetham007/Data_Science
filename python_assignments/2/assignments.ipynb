{
 "cells": [
  {
   "cell_type": "markdown",
   "id": "29b830e9",
   "metadata": {},
   "source": [
    "### Assignment 1: Simple if Statement\n",
    "\n",
    "Write a program that asks the user to input a number and prints whether the number is positive."
   ]
  },
  {
   "cell_type": "code",
   "execution_count": 2,
   "id": "fb7e17ea",
   "metadata": {},
   "outputs": [
    {
     "name": "stdout",
     "output_type": "stream",
     "text": [
      "x : 3\n",
      "The number 3 is Positive.\n"
     ]
    }
   ],
   "source": [
    "# Your code here\n",
    "x = int(input(\"Enter a Number :\"))\n",
    "print(f\"x : {x}\")\n",
    "\n",
    "if x>0:\n",
    "    print(f\"The number {x} is Positive.\")"
   ]
  },
  {
   "cell_type": "markdown",
   "id": "4202497c",
   "metadata": {},
   "source": [
    "### Assignment 2: if-else Statement\n",
    "\n",
    "Write a program that asks the user to input a number and prints whether the number is positive or negative."
   ]
  },
  {
   "cell_type": "code",
   "execution_count": 3,
   "id": "41b7d0ae",
   "metadata": {},
   "outputs": [
    {
     "name": "stdout",
     "output_type": "stream",
     "text": [
      "x : -2\n",
      "The number -2 is Negative.\n"
     ]
    }
   ],
   "source": [
    "# Your code here\n",
    "x = int(input(\"Enter a Number :\"))\n",
    "print(f\"x : {x}\")\n",
    "\n",
    "if x>0:\n",
    "    print(f\"The Number {x} is Positive.\")\n",
    "else:\n",
    "    print(f\"The number {x} is Negative.\")"
   ]
  },
  {
   "cell_type": "markdown",
   "id": "9bb0b563",
   "metadata": {},
   "source": [
    "### Assignment 3: if-elif-else Statement\n",
    "\n",
    "Write a program that asks the user to input a number and prints whether the number is positive, negative, or zero."
   ]
  },
  {
   "cell_type": "code",
   "execution_count": 4,
   "id": "3520e74c",
   "metadata": {},
   "outputs": [
    {
     "name": "stdout",
     "output_type": "stream",
     "text": [
      "x : 0\n",
      "The number is Zero.\n"
     ]
    }
   ],
   "source": [
    "# Your code here\n",
    "x = int(input(\"Enter a Number :\"))\n",
    "print(f\"x : {x}\")\n",
    "\n",
    "if x==0:\n",
    "    print(\"The number is Zero.\")\n",
    "elif x>0:\n",
    "    print(f\"The Number {x} is Positive.\")\n",
    "else:\n",
    "    print(f\"The number {x} is Negative.\")"
   ]
  },
  {
   "cell_type": "markdown",
   "id": "46b17934",
   "metadata": {},
   "source": [
    "### Assignment 4: Nested if Statement\n",
    "\n",
    "Write a program that asks the user to input a number and prints whether the number is positive and even, positive and odd, or negative."
   ]
  },
  {
   "cell_type": "code",
   "execution_count": 5,
   "id": "7707389d",
   "metadata": {},
   "outputs": [
    {
     "name": "stdout",
     "output_type": "stream",
     "text": [
      "x : -7\n",
      "The Number -7 is Negative and odd.\n"
     ]
    }
   ],
   "source": [
    "# Your code here\n",
    "x = int(input(\"Enter a Number :\"))\n",
    "print(f\"x : {x}\")\n",
    "\n",
    "if x==0:\n",
    "    print(\"The number is Zero.\")\n",
    "elif x>0:\n",
    "    if x%2 == 0:\n",
    "        print(f\"The Number {x} is Positive and even.\")\n",
    "    else:\n",
    "        print(f\"The Number {x} is Positive and odd.\")\n",
    "else:\n",
    "    if x%2 == 0:\n",
    "        print(f\"The Number {x} is Negative and even.\")\n",
    "    else:\n",
    "        print(f\"The Number {x} is Negative and odd.\")"
   ]
  },
  {
   "cell_type": "markdown",
   "id": "f5218501",
   "metadata": {},
   "source": [
    "### Assignment 5: for Loop\n",
    "\n",
    "Write a program that prints all the numbers from 1 to 10 using a for loop."
   ]
  },
  {
   "cell_type": "code",
   "execution_count": 8,
   "id": "197cb3c9",
   "metadata": {},
   "outputs": [
    {
     "name": "stdout",
     "output_type": "stream",
     "text": [
      "1 2 3 4 5 6 7 8 9 10 "
     ]
    }
   ],
   "source": [
    "for i in range(1, 11):\n",
    "    print(i, end = \" \")"
   ]
  },
  {
   "cell_type": "markdown",
   "id": "cbeb25d2",
   "metadata": {},
   "source": [
    "### Assignment 6: while Loop\n",
    "\n",
    "Write a program that prints all the numbers from 1 to 10 using a while loop."
   ]
  },
  {
   "cell_type": "code",
   "execution_count": 7,
   "id": "2bdaf9d8",
   "metadata": {},
   "outputs": [
    {
     "name": "stdout",
     "output_type": "stream",
     "text": [
      "1 2 3 4 5 6 7 8 9 10 "
     ]
    }
   ],
   "source": [
    "x = 1\n",
    "while x<11:\n",
    "    print(x, end = \" \")\n",
    "    x += 1"
   ]
  },
  {
   "cell_type": "markdown",
   "id": "5d902199",
   "metadata": {},
   "source": [
    "### Assignment 7: Nested Loops\n",
    "\n",
    "Write a program that prints a 5x5 grid of asterisks (*) using nested loops."
   ]
  },
  {
   "cell_type": "code",
   "execution_count": 11,
   "id": "8fe35303",
   "metadata": {},
   "outputs": [
    {
     "name": "stdout",
     "output_type": "stream",
     "text": [
      "* * * * * \n",
      "* * * * * \n",
      "* * * * * \n",
      "* * * * * \n",
      "* * * * * \n"
     ]
    }
   ],
   "source": [
    "for i in range(5):\n",
    "    for j in range(5):\n",
    "        print(\"*\", end = \" \")\n",
    "    print()"
   ]
  },
  {
   "cell_type": "markdown",
   "id": "f875d7bd",
   "metadata": {},
   "source": [
    "### Assignment 8: break Statement\n",
    "\n",
    "Write a program that asks the user to input numbers until they input 0. The program should print the sum of all the input numbers."
   ]
  },
  {
   "cell_type": "code",
   "execution_count": null,
   "id": "dccd98a0",
   "metadata": {},
   "outputs": [
    {
     "name": "stdout",
     "output_type": "stream",
     "text": [
      "5\n"
     ]
    }
   ],
   "source": [
    "res = 0\n",
    "temp = 1\n",
    "while temp != 0:\n",
    "    temp = int(input(\"Enter a Number :\"))\n",
    "    res += temp\n",
    "print(res)"
   ]
  },
  {
   "cell_type": "markdown",
   "id": "b9107803",
   "metadata": {},
   "source": [
    "### Assignment 9: continue Statement\n",
    "\n",
    "Write a program that prints all the numbers from 1 to 10 except 5 using a for loop and continue statement."
   ]
  },
  {
   "cell_type": "code",
   "execution_count": 16,
   "id": "bfe271a6",
   "metadata": {},
   "outputs": [
    {
     "name": "stdout",
     "output_type": "stream",
     "text": [
      "1 2 3 4 6 7 8 9 10 "
     ]
    }
   ],
   "source": [
    "for i in range(1, 11):\n",
    "    if i == 5:\n",
    "        continue\n",
    "    print(i, end = \" \")"
   ]
  },
  {
   "cell_type": "markdown",
   "id": "bea90875",
   "metadata": {},
   "source": [
    "### Assignment 10: pass Statement\n",
    "\n",
    "Write a program that defines an empty function using the pass statement."
   ]
  },
  {
   "cell_type": "code",
   "execution_count": 19,
   "id": "7fa12c82",
   "metadata": {},
   "outputs": [
    {
     "name": "stdout",
     "output_type": "stream",
     "text": [
      "1\n",
      "2\n",
      "3\n",
      "4\n",
      "This Pass does nothing\n",
      "5\n",
      "6\n",
      "7\n",
      "8\n",
      "9\n",
      "10\n"
     ]
    }
   ],
   "source": [
    "for i in range(1, 11):\n",
    "    if i == 5:\n",
    "        print(\"This Pass does nothing\")\n",
    "        pass\n",
    "    print(i)"
   ]
  },
  {
   "cell_type": "markdown",
   "id": "08d55f03",
   "metadata": {},
   "source": [
    "### Assignment 11: Combining Loops and Conditionals\n",
    "\n",
    "Write a program that asks the user to input a number and prints all the even numbers from 1 to that number using a for loop."
   ]
  },
  {
   "cell_type": "code",
   "execution_count": 23,
   "id": "74c7bd87",
   "metadata": {},
   "outputs": [
    {
     "name": "stdout",
     "output_type": "stream",
     "text": [
      "x : 20\n",
      "Even Numbers : 0 2 4 6 8 10 12 14 16 18 "
     ]
    }
   ],
   "source": [
    "x = int(input(\"Enter a Number :\"))\n",
    "print(f\"x : {x}\\nEven Numbers :\", end = \" \")\n",
    "\n",
    "for i in range(x):\n",
    "    if i%2 == 0:\n",
    "        print(i, end = \" \")"
   ]
  },
  {
   "cell_type": "markdown",
   "id": "35c4c554",
   "metadata": {},
   "source": [
    "### Assignment 12: Factorial Calculation\n",
    "\n",
    "Write a program that calculates the factorial of a number input by the user using a while loop."
   ]
  },
  {
   "cell_type": "code",
   "execution_count": 24,
   "id": "45fe4ddd",
   "metadata": {},
   "outputs": [
    {
     "name": "stdout",
     "output_type": "stream",
     "text": [
      "x : 5\n",
      "5! is : 120\n"
     ]
    }
   ],
   "source": [
    "x = int(input(\"Enter a Number :\"))\n",
    "print(f\"x : {x}\")\n",
    "\n",
    "temp = x\n",
    "res = 1\n",
    "while temp != 0:\n",
    "    res *= temp\n",
    "    temp -= 1\n",
    "print(f\"{x}! is : {res}\")"
   ]
  },
  {
   "cell_type": "markdown",
   "id": "0b13f68a",
   "metadata": {},
   "source": [
    "### Assignment 13: Sum of Digits\n",
    "\n",
    "Write a program that calculates the sum of the digits of a number input by the user using a while loop."
   ]
  },
  {
   "cell_type": "code",
   "execution_count": 31,
   "id": "ea60efab",
   "metadata": {},
   "outputs": [
    {
     "name": "stdout",
     "output_type": "stream",
     "text": [
      "x : 1234\n",
      "Sum of the Digits of a Number 1234 is : 10\n"
     ]
    }
   ],
   "source": [
    "x = input(\"Enter a Number :\")\n",
    "print(f\"x : {x}\")\n",
    "\n",
    "temp = x\n",
    "res = 0\n",
    "while len(temp) != 0:\n",
    "    res += int(temp[-1])\n",
    "    temp = temp[:-1]\n",
    "print(f\"Sum of the Digits of a Number {x} is : {res}\")"
   ]
  },
  {
   "cell_type": "markdown",
   "id": "0cf55ced",
   "metadata": {},
   "source": [
    "### Assignment 14: Prime Number Check\n",
    "\n",
    "Write a program that checks if a number input by the user is a prime number using a for loop."
   ]
  },
  {
   "cell_type": "code",
   "execution_count": 39,
   "id": "1f440346",
   "metadata": {},
   "outputs": [
    {
     "name": "stdout",
     "output_type": "stream",
     "text": [
      "x : 50\n",
      "50 is not a Prime Number.\n"
     ]
    }
   ],
   "source": [
    "x = int(input(\"Enter a Number :\"))\n",
    "print(f\"x : {x}\")\n",
    "\n",
    "for i in range(2, x):\n",
    "    if x%i == 0:\n",
    "        print(f\"{x} is not a Prime Number.\")\n",
    "        break\n",
    "else:\n",
    "    print(f\"{x} is a Prime Number.\")"
   ]
  },
  {
   "cell_type": "markdown",
   "id": "e6d3f9bd",
   "metadata": {},
   "source": [
    "### Assignment 15: Fibonacci Sequence\n",
    "\n",
    "Write a program that prints the first n Fibonacci numbers, where n is input by the user."
   ]
  },
  {
   "cell_type": "code",
   "execution_count": 47,
   "id": "98381f03",
   "metadata": {},
   "outputs": [
    {
     "name": "stdout",
     "output_type": "stream",
     "text": [
      "x : 10\n",
      "Fibonacci Numbers :  0 1 1 2 3 5 8 13 21 34 "
     ]
    }
   ],
   "source": [
    "x = int(input(\"Enter a Number :\"))\n",
    "print(f\"x : {x}\\nFibonacci Numbers : \", end = \" \")\n",
    "\n",
    "a, b = 0, 1\n",
    "res = 0\n",
    "while res < x:\n",
    "    print(a, end = \" \")\n",
    "    a, b = b, a+b\n",
    "    res += 1"
   ]
  }
 ],
 "metadata": {
  "kernelspec": {
   "display_name": "venv",
   "language": "python",
   "name": "python3"
  },
  "language_info": {
   "codemirror_mode": {
    "name": "ipython",
    "version": 3
   },
   "file_extension": ".py",
   "mimetype": "text/x-python",
   "name": "python",
   "nbconvert_exporter": "python",
   "pygments_lexer": "ipython3",
   "version": "3.12.2"
  }
 },
 "nbformat": 4,
 "nbformat_minor": 5
}
