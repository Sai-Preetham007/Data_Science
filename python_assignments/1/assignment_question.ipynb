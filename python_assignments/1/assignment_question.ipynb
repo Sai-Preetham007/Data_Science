{
 "cells": [
  {
   "cell_type": "markdown",
   "metadata": {},
   "source": [
    "# Lesson 1.2: Python Basics\n",
    "## Topics Covered:\n",
    "- Syntax and Semantics\n",
    "- Variables and Data Types\n",
    "- Basic Operators (Arithmetic, Comparison, Logical)\n"
   ]
  },
  {
   "cell_type": "markdown",
   "metadata": {},
   "source": [
    "## 1. Syntax and Semantics\n",
    "\n",
    "**Question 1:** Write a Python program to print \"Hello, World!\"."
   ]
  },
  {
   "cell_type": "code",
   "execution_count": 1,
   "metadata": {},
   "outputs": [
    {
     "name": "stdout",
     "output_type": "stream",
     "text": [
      "Hello World!\n"
     ]
    }
   ],
   "source": [
    "# Your code here\n",
    "print(\"Hello World!\")"
   ]
  },
  {
   "cell_type": "markdown",
   "metadata": {},
   "source": [
    "**Question 2:** Write a Python program that takes a user input and prints it."
   ]
  },
  {
   "cell_type": "code",
   "execution_count": 2,
   "metadata": {},
   "outputs": [
    {
     "name": "stdout",
     "output_type": "stream",
     "text": [
      "Name : Sai\n"
     ]
    }
   ],
   "source": [
    "# Your code here\n",
    "name = input(\"Enter the Name :\")\n",
    "print(\"Name :\", name)"
   ]
  },
  {
   "cell_type": "markdown",
   "metadata": {},
   "source": [
    "**Question 3:** Write a Python program to check if a number is positive, negative, or zero."
   ]
  },
  {
   "cell_type": "code",
   "execution_count": 3,
   "metadata": {},
   "outputs": [
    {
     "name": "stdout",
     "output_type": "stream",
     "text": [
      "x : -2\n",
      "The number -2 is Negative.\n"
     ]
    }
   ],
   "source": [
    "# Your code here\n",
    "x = int(input(\"Enter a Number :\"))\n",
    "print(f\"x : {x}\")\n",
    "\n",
    "if x==0:\n",
    "    print(\"The number is Zero.\")\n",
    "elif x>0:\n",
    "    print(f\"The Number {x} is Positive.\")\n",
    "else:\n",
    "    print(f\"The number {x} is Negative.\")"
   ]
  },
  {
   "cell_type": "markdown",
   "metadata": {},
   "source": [
    "**Question 4:** Write a Python program to find the largest of three numbers."
   ]
  },
  {
   "cell_type": "code",
   "execution_count": 4,
   "metadata": {},
   "outputs": [
    {
     "name": "stdout",
     "output_type": "stream",
     "text": [
      "x : 10, y : 20, z : 15\n",
      "The Greatest Number is : 20\n"
     ]
    }
   ],
   "source": [
    "# Your code here\n",
    "x, y, z = int(input(\"1st Number :\")), int(input(\"2nd Number :\")), int(input(\"3rd Number :\"))\n",
    "print(f\"x : {x}, y : {y}, z : {z}\")\n",
    "\n",
    "if ((x>y) & (x>z)):\n",
    "    print(f\"The Greatest Number is : {x}\")\n",
    "elif ((y>x) & (y>z)):\n",
    "    print(f\"The Greatest Number is : {y}\")\n",
    "else:\n",
    "    print(f\"The Greatest Number is : {z}\")"
   ]
  },
  {
   "cell_type": "markdown",
   "metadata": {},
   "source": [
    "**Question 5:** Write a Python program to calculate the factorial of a number."
   ]
  },
  {
   "cell_type": "code",
   "execution_count": 5,
   "metadata": {},
   "outputs": [
    {
     "name": "stdout",
     "output_type": "stream",
     "text": [
      "x : 5\n",
      "5! is 120\n"
     ]
    }
   ],
   "source": [
    "# Your code here\n",
    "x = int(input(\"Enter the Number :\"))\n",
    "print(f\"x : {x}\")\n",
    "\n",
    "temp = x\n",
    "res = 1\n",
    "while x!=1:\n",
    "    res *= x\n",
    "    x -=1\n",
    "print(f\"{temp}! is {res}\")"
   ]
  },
  {
   "cell_type": "markdown",
   "metadata": {},
   "source": [
    "## 2. Variables and Data Types\n",
    "\n",
    "**Question 6:** Create variables of different data types: integer, float, string, and boolean. Print their values and types."
   ]
  },
  {
   "cell_type": "code",
   "execution_count": 6,
   "metadata": {},
   "outputs": [
    {
     "name": "stdout",
     "output_type": "stream",
     "text": [
      "Name : Sai, Data_Type : <class 'str'>\n",
      "Age : 24, Data_Type : <class 'int'>\n",
      "Height : 6.2, Data_Type : <class 'float'>\n",
      "Is_Student : True, Data_Type : <class 'bool'>\n"
     ]
    }
   ],
   "source": [
    "# Your code here\n",
    "name = \"Sai\"\n",
    "age = 24\n",
    "height = 6.2\n",
    "is_student = True\n",
    "\n",
    "print(f\"Name : {name}, Data_Type : {type(name)}\")\n",
    "print(f\"Age : {age}, Data_Type : {type(age)}\")\n",
    "print(f\"Height : {height}, Data_Type : {type(height)}\")\n",
    "print(f\"Is_Student : {is_student}, Data_Type : {type(is_student)}\")"
   ]
  },
  {
   "cell_type": "markdown",
   "metadata": {},
   "source": [
    "**Question 7:** Write a Python program to swap the values of two variables."
   ]
  },
  {
   "cell_type": "code",
   "execution_count": 7,
   "metadata": {},
   "outputs": [
    {
     "name": "stdout",
     "output_type": "stream",
     "text": [
      "Before Swapping :\n",
      "x : 2, y : 3\n",
      "\n",
      "After Swapping\n",
      "x : 3, y : 2\n"
     ]
    }
   ],
   "source": [
    "# Your code here\n",
    "x = 2\n",
    "y = 3\n",
    "print(\"Before Swapping :\")\n",
    "print(f\"x : {x}, y : {y}\\n\")\n",
    "\n",
    "x, y = y, x\n",
    "print(\"After Swapping\")\n",
    "print(f\"x : {x}, y : {y}\")"
   ]
  },
  {
   "cell_type": "code",
   "execution_count": 8,
   "metadata": {},
   "outputs": [
    {
     "name": "stdout",
     "output_type": "stream",
     "text": [
      "Before Swapping :\n",
      "x : 2, y : 3\n",
      "\n",
      "After Swapping\n",
      "x : 3, y : 2\n"
     ]
    }
   ],
   "source": [
    "# Your code here\n",
    "x = 2\n",
    "y = 3\n",
    "print(\"Before Swapping :\")\n",
    "print(f\"x : {x}, y : {y}\\n\")\n",
    "\n",
    "x = x+y       # x = 2+3  =>  x = 5\n",
    "y = x-y       # y = 5-3  =>  y = 2\n",
    "x = x-y       # x = 5-2  =>  x = 3\n",
    "print(\"After Swapping\")\n",
    "print(f\"x : {x}, y : {y}\")"
   ]
  },
  {
   "cell_type": "markdown",
   "metadata": {},
   "source": [
    "**Question 8:** Write a Python program to convert Celsius to Fahrenheit."
   ]
  },
  {
   "cell_type": "code",
   "execution_count": 9,
   "metadata": {},
   "outputs": [
    {
     "name": "stdout",
     "output_type": "stream",
     "text": [
      "Temperature in Celcius is : 47.5\n",
      "Temperature in Fahrenheit is : 117.5\n"
     ]
    }
   ],
   "source": [
    "# Your code here\n",
    "c = float(input(\"Temperature in Celcius :\"))\n",
    "print(f\"Temperature in Celcius is : {c}\")\n",
    "\n",
    "f = round((c*(9/5))+32, 2)\n",
    "print(f\"Temperature in Fahrenheit is : {f}\")"
   ]
  },
  {
   "cell_type": "markdown",
   "metadata": {},
   "source": [
    "**Question 9:** Write a Python program to concatenate two strings."
   ]
  },
  {
   "cell_type": "code",
   "execution_count": 10,
   "metadata": {},
   "outputs": [
    {
     "name": "stdout",
     "output_type": "stream",
     "text": [
      "Name : Sai Preetham\n"
     ]
    }
   ],
   "source": [
    "# Your code here\n",
    "x = \"Sai\"\n",
    "y = \"Preetham\"\n",
    "\n",
    "print(f\"Name : {x+\" \"+y}\")"
   ]
  },
  {
   "cell_type": "markdown",
   "metadata": {},
   "source": [
    "**Question 10:** Write a Python program to check if a variable is of a specific data type."
   ]
  },
  {
   "cell_type": "code",
   "execution_count": 11,
   "metadata": {},
   "outputs": [
    {
     "name": "stdout",
     "output_type": "stream",
     "text": [
      "10.5 is a float\n"
     ]
    }
   ],
   "source": [
    "# Your code here\n",
    "var = 10.5\n",
    "if isinstance(var, float):\n",
    "    print(f\"{var} is a float\")\n",
    "else:\n",
    "    print(f\"{var} is not a float\")"
   ]
  },
  {
   "cell_type": "markdown",
   "metadata": {},
   "source": [
    "## 3. Basic Operators (Arithmetic, Comparison, Logical)\n",
    "\n",
    "**Question 11:** Write a Python program to perform arithmetic operations: addition, subtraction, multiplication, and division."
   ]
  },
  {
   "cell_type": "code",
   "execution_count": 12,
   "metadata": {},
   "outputs": [
    {
     "name": "stdout",
     "output_type": "stream",
     "text": [
      "x : 5, y : 10\n",
      "\n",
      "Add : 5 + 10 = 15\n",
      "Sub : 5 - 10 = -5\n",
      "Mul : 5 * 10 = 50\n",
      "Div : 5 / 10 = 0.5\n"
     ]
    }
   ],
   "source": [
    "# Your code here\n",
    "x, y = int(input(\"1st Number :\")), int(input(\"2nd Number :\"))\n",
    "print(f\"x : {x}, y : {y}\\n\")\n",
    "\n",
    "print(f\"Add : {x} + {y} = {x+y}\")\n",
    "print(f\"Sub : {x} - {y} = {x-y}\")\n",
    "print(f\"Mul : {x} * {y} = {x*y}\")\n",
    "print(f\"Div : {x} / {y} = {x/y}\")"
   ]
  },
  {
   "cell_type": "markdown",
   "metadata": {},
   "source": [
    "**Question 12:** Write a Python program to demonstrate comparison operators: equal to, not equal to, greater than, less than."
   ]
  },
  {
   "cell_type": "code",
   "execution_count": 13,
   "metadata": {},
   "outputs": [
    {
     "name": "stdout",
     "output_type": "stream",
     "text": [
      "x : 3, y : 4\n",
      "\n",
      "3 is less than 4\n",
      "3 is not equal to 4\n"
     ]
    }
   ],
   "source": [
    "# Your code here\n",
    "x, y = int(input(\"1st Number :\")), int(input(\"2nd Number :\"))\n",
    "print(f\"x : {x}, y : {y}\\n\")\n",
    "\n",
    "if x==y:\n",
    "    print(f\"{x} is equal to {y}\")\n",
    "if x>y:\n",
    "    print(f\"{x} is greater than {y}\")\n",
    "if x<y:\n",
    "    print(f\"{x} is less than {y}\")\n",
    "if x!=y:\n",
    "    print(f\"{x} is not equal to {y}\")"
   ]
  },
  {
   "cell_type": "markdown",
   "metadata": {},
   "source": [
    "**Question 13:** Write a Python program to demonstrate logical operators: and, or, not."
   ]
  },
  {
   "cell_type": "code",
   "execution_count": 14,
   "metadata": {},
   "outputs": [
    {
     "name": "stdout",
     "output_type": "stream",
     "text": [
      "either of x and y is True.\n",
      "x : False, y : True\n"
     ]
    }
   ],
   "source": [
    "# Your code here\n",
    "x = True\n",
    "y = False\n",
    "\n",
    "if x and y:\n",
    "    print(\"x and y both should be True.\")\n",
    "elif x or y:\n",
    "    print(\"either of x and y is True.\")\n",
    "print(f\"x : {not x}, y : {not y}\")"
   ]
  },
  {
   "cell_type": "markdown",
   "metadata": {},
   "source": [
    "**Question 14:** Write a Python program to calculate the square of a number."
   ]
  },
  {
   "cell_type": "code",
   "execution_count": 15,
   "metadata": {},
   "outputs": [
    {
     "name": "stdout",
     "output_type": "stream",
     "text": [
      "square of a number 5 is : 25\n"
     ]
    }
   ],
   "source": [
    "# Your code here\n",
    "x = 5\n",
    "print(f\"square of a number {x} is : {x**2}\")"
   ]
  },
  {
   "cell_type": "markdown",
   "metadata": {},
   "source": [
    "**Question 15:** Write a Python program to check if a number is even or odd."
   ]
  },
  {
   "cell_type": "code",
   "execution_count": null,
   "metadata": {},
   "outputs": [
    {
     "name": "stdout",
     "output_type": "stream",
     "text": [
      "x : 5\n",
      "5 is odd.\n"
     ]
    }
   ],
   "source": [
    "# Your code here\n",
    "x = int(input(\"Enter a Number :\"))\n",
    "print(f\"x : {x}\")\n",
    "\n",
    "if x%2 == 0:\n",
    "    print(f\"{x} is even.\")\n",
    "else:\n",
    "    print(f\"{x} is odd.\")"
   ]
  },
  {
   "cell_type": "markdown",
   "metadata": {},
   "source": [
    "**Question 16:** Write a Python program to find the sum of the first n natural numbers."
   ]
  },
  {
   "cell_type": "code",
   "execution_count": 18,
   "metadata": {},
   "outputs": [
    {
     "name": "stdout",
     "output_type": "stream",
     "text": [
      "x : 5\n",
      "Sum of 5 Natural Numbers is : 15\n"
     ]
    }
   ],
   "source": [
    "# Your code here\n",
    "x = int(input(\"Enter a Number :\"))\n",
    "print(f\"x : {x}\")\n",
    "\n",
    "res = 0\n",
    "for i in range(1,x+1):\n",
    "    res += i\n",
    "print(f\"Sum of {x} Natural Numbers is : {res}\")"
   ]
  },
  {
   "cell_type": "markdown",
   "metadata": {},
   "source": [
    "**Question 17:** Write a Python program to check if a year is a leap year."
   ]
  },
  {
   "cell_type": "code",
   "execution_count": 20,
   "metadata": {},
   "outputs": [
    {
     "name": "stdout",
     "output_type": "stream",
     "text": [
      "Year : 2016\n",
      "2016 is leap year.\n"
     ]
    }
   ],
   "source": [
    "# Your code here\n",
    "x = int(input(\"Enter Year :\"))\n",
    "print(f\"Year : {x}\")\n",
    "\n",
    "if (x%4 == 0 and x%100 != 0) or (x%400 == 0):\n",
    "    print(f\"{x} is leap year.\")\n",
    "else:\n",
    "    print(f\"{x} is not a leap year.\")"
   ]
  },
  {
   "cell_type": "markdown",
   "metadata": {},
   "source": [
    "**Question 18:** Write a Python program to reverse a string."
   ]
  },
  {
   "cell_type": "code",
   "execution_count": 27,
   "metadata": {},
   "outputs": [
    {
     "name": "stdout",
     "output_type": "stream",
     "text": [
      "String : sai\n",
      "Reversed String : ias\n"
     ]
    }
   ],
   "source": [
    "# Your code here\n",
    "x = input(\"Enter a String :\")\n",
    "print(f\"String : {x}\")\n",
    "\n",
    "print(f\"Reversed String : {x[::-1]}\")"
   ]
  },
  {
   "cell_type": "markdown",
   "metadata": {},
   "source": [
    "**Question 19:** Write a Python program to check if a string is a palindrome."
   ]
  },
  {
   "cell_type": "code",
   "execution_count": 28,
   "metadata": {},
   "outputs": [
    {
     "name": "stdout",
     "output_type": "stream",
     "text": [
      "String : sai\n",
      "It's not a Palindrome.\n"
     ]
    }
   ],
   "source": [
    "# Your code here\n",
    "x = input(\"Enter a String :\")\n",
    "print(f\"String : {x}\")\n",
    "\n",
    "y = x[::-1]\n",
    "if x==y:\n",
    "    print(\"It's a Palindrome.\")\n",
    "else:\n",
    "    print(\"It's not a Palindrome.\")"
   ]
  },
  {
   "cell_type": "markdown",
   "metadata": {},
   "source": [
    "**Question 20:** Write a Python program to sort a list of numbers in ascending order."
   ]
  },
  {
   "cell_type": "code",
   "execution_count": 29,
   "metadata": {},
   "outputs": [
    {
     "name": "stdout",
     "output_type": "stream",
     "text": [
      "Unordered List : [5, 9, 3, 6, 2, 0, 4]\n",
      "Sorted List : [0, 2, 3, 4, 5, 6, 9]\n"
     ]
    }
   ],
   "source": [
    "# Your code here\n",
    "x = [5,9,3,6,2,0,4]\n",
    "print(f\"Unordered List : {x}\")\n",
    "\n",
    "x.sort()\n",
    "print(f\"Sorted List : {x}\")"
   ]
  }
 ],
 "metadata": {
  "kernelspec": {
   "display_name": "Python 3",
   "language": "python",
   "name": "python3"
  },
  "language_info": {
   "codemirror_mode": {
    "name": "ipython",
    "version": 3
   },
   "file_extension": ".py",
   "mimetype": "text/x-python",
   "name": "python",
   "nbconvert_exporter": "python",
   "pygments_lexer": "ipython3",
   "version": "3.12.2"
  }
 },
 "nbformat": 4,
 "nbformat_minor": 4
}
