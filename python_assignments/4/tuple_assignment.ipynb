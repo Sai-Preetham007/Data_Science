{
 "cells": [
  {
   "cell_type": "markdown",
   "id": "63acd81d",
   "metadata": {},
   "source": [
    "### Assignment 1: Creating and Accessing Tuples\n",
    "\n",
    "Create a tuple with the first 10 positive integers. Print the tuple."
   ]
  },
  {
   "cell_type": "code",
   "execution_count": 1,
   "id": "c1509c3d",
   "metadata": {},
   "outputs": [
    {
     "name": "stdout",
     "output_type": "stream",
     "text": [
      "Tuple : (1, 2, 3, 4, 5, 6, 7, 8, 9, 10)\n"
     ]
    }
   ],
   "source": [
    "x = tuple([i for i in range(1, 11)])\n",
    "print(f\"Tuple : {x}\")"
   ]
  },
  {
   "cell_type": "markdown",
   "id": "4eb57de0",
   "metadata": {},
   "source": [
    "### Assignment 2: Accessing Tuple Elements\n",
    "\n",
    "Print the first, middle, and last elements of the tuple created in Assignment 1."
   ]
  },
  {
   "cell_type": "code",
   "execution_count": 2,
   "id": "9541d0ca",
   "metadata": {},
   "outputs": [
    {
     "name": "stdout",
     "output_type": "stream",
     "text": [
      "First Element : 1 \n",
      "Middle Elements : (2, 3, 4, 5, 6, 7, 8, 9) \n",
      "Last Element : 10\n"
     ]
    }
   ],
   "source": [
    "print(f\"First Element : {x[0]} \\nMiddle Elements : {x[1:-1]} \\nLast Element : {x[-1]}\")"
   ]
  },
  {
   "cell_type": "markdown",
   "id": "368c5234",
   "metadata": {},
   "source": [
    "### Assignment 3: Tuple Slicing\n",
    "\n",
    "Print the first three elements, the last three elements, and the elements from index 2 to 5 of the tuple created in Assignment 1."
   ]
  },
  {
   "cell_type": "code",
   "execution_count": 3,
   "id": "927204bf",
   "metadata": {},
   "outputs": [
    {
     "name": "stdout",
     "output_type": "stream",
     "text": [
      "First 3 Elements : (1, 2, 3) \n",
      "Last 3 Elements : (8, 9, 10) \n",
      "Index 2 to 5 Elements : (3, 4, 5, 6)\n"
     ]
    }
   ],
   "source": [
    "print(f\"First 3 Elements : {x[:3]} \\nLast 3 Elements : {x[-3:]} \\nIndex 2 to 5 Elements : {x[2:6]}\")"
   ]
  },
  {
   "cell_type": "markdown",
   "id": "32595bd7",
   "metadata": {},
   "source": [
    "### Assignment 4: Nested Tuples\n",
    "\n",
    "Create a nested tuple representing a 3x3 matrix and print the matrix. Access and print the element at the second row and third column."
   ]
  },
  {
   "cell_type": "code",
   "execution_count": 4,
   "id": "07c0e62d",
   "metadata": {},
   "outputs": [
    {
     "name": "stdout",
     "output_type": "stream",
     "text": [
      "Matrix :\n",
      "(1, 2, 3)\n",
      "(4, 5, 6)\n",
      "(7, 8, 9)\n",
      "\n",
      "Element a 2nd row and 3rd column : 6\n"
     ]
    }
   ],
   "source": [
    "x = ((1,2,3), (4,5,6), (7,8,9))\n",
    "print(\"Matrix :\")\n",
    "for i in x:\n",
    "    print(i)\n",
    "print(f\"\\nElement a 2nd row and 3rd column : {x[1][2]}\")"
   ]
  },
  {
   "cell_type": "markdown",
   "id": "ebffa1cb",
   "metadata": {},
   "source": [
    "### Assignment 5: Tuple Concatenation\n",
    "\n",
    "Concatenate two tuples: (1, 2, 3) and (4, 5, 6). Print the resulting tuple."
   ]
  },
  {
   "cell_type": "code",
   "execution_count": 5,
   "id": "5d453723",
   "metadata": {},
   "outputs": [
    {
     "name": "stdout",
     "output_type": "stream",
     "text": [
      "Concatinated Tuples : (1, 2, 3, 4, 5, 6)\n"
     ]
    }
   ],
   "source": [
    "x, y = (1,2,3), (4,5,6)\n",
    "print(f\"Concatinated Tuples : {x+y}\")"
   ]
  },
  {
   "cell_type": "markdown",
   "id": "805e9380",
   "metadata": {},
   "source": [
    "### Assignment 6: Tuple Methods\n",
    "\n",
    "Create a tuple with duplicate elements and count the occurrences of an element. Find the index of the first occurrence of an element in the tuple."
   ]
  },
  {
   "cell_type": "code",
   "execution_count": 6,
   "id": "da969a94",
   "metadata": {},
   "outputs": [
    {
     "name": "stdout",
     "output_type": "stream",
     "text": [
      "Occurrences of 9 : 3\n",
      "Index of first Occurrence of 1 : 3\n"
     ]
    }
   ],
   "source": [
    "x = (5,9,0,1,4,7,3,1,5,9,2,3,9)\n",
    "print(f\"Occurrences of 9 : {x.count(9)}\")\n",
    "print(f\"Index of first Occurrence of 1 : {x.index(1)}\")"
   ]
  },
  {
   "cell_type": "markdown",
   "id": "72f02858",
   "metadata": {},
   "source": [
    "### Assignment 7: Unpacking Tuples\n",
    "\n",
    "Create a tuple with 5 elements and unpack it into 5 variables. Print the variables."
   ]
  },
  {
   "cell_type": "code",
   "execution_count": 7,
   "id": "c6edb0af",
   "metadata": {},
   "outputs": [
    {
     "name": "stdout",
     "output_type": "stream",
     "text": [
      "1 2 3 4 5\n"
     ]
    }
   ],
   "source": [
    "x = (1,2,3,4,5)\n",
    "a,b,c,d,e = x\n",
    "print(a,b,c,d,e)"
   ]
  },
  {
   "cell_type": "markdown",
   "id": "a4b613f3",
   "metadata": {},
   "source": [
    "### Assignment 8: Tuple Conversion\n",
    "\n",
    "Convert a list of the first 5 positive integers to a tuple. Print the tuple."
   ]
  },
  {
   "cell_type": "code",
   "execution_count": 8,
   "id": "12817214",
   "metadata": {},
   "outputs": [
    {
     "name": "stdout",
     "output_type": "stream",
     "text": [
      "Tuple : (1, 2, 3, 4, 5)\n"
     ]
    }
   ],
   "source": [
    "x = [1,2,3,4,5]\n",
    "print(f\"Tuple : {tuple(x)}\")"
   ]
  },
  {
   "cell_type": "markdown",
   "id": "7b9e4e0b",
   "metadata": {},
   "source": [
    "### Assignment 9: Tuple of Tuples\n",
    "\n",
    "Create a tuple containing 3 tuples, each with 3 elements. Print the tuple of tuples."
   ]
  },
  {
   "cell_type": "code",
   "execution_count": 9,
   "id": "5bb41593",
   "metadata": {},
   "outputs": [
    {
     "name": "stdout",
     "output_type": "stream",
     "text": [
      "Tuple of Tuples :\n",
      "(1, 2, 3)\n",
      "(4, 5, 6)\n",
      "(7, 8, 9)\n"
     ]
    }
   ],
   "source": [
    "x = ((1,2,3), (4,5,6), (7,8,9))\n",
    "print(\"Tuple of Tuples :\")\n",
    "for i in x:\n",
    "    print(i)"
   ]
  },
  {
   "cell_type": "markdown",
   "id": "55af6b5d",
   "metadata": {},
   "source": [
    "### Assignment 10: Tuple and List\n",
    "\n",
    "Create a tuple with the first 5 positive integers. Convert it to a list, append the number 6, and convert it back to a tuple. Print the resulting tuple."
   ]
  },
  {
   "cell_type": "code",
   "execution_count": 10,
   "id": "4621b610",
   "metadata": {},
   "outputs": [
    {
     "name": "stdout",
     "output_type": "stream",
     "text": [
      "Tuple : (1, 2, 3, 4, 5, 6)\n"
     ]
    }
   ],
   "source": [
    "x = (1,2,3,4,5)\n",
    "y = list(x)\n",
    "y.append(6)\n",
    "print(f\"Tuple : {tuple(y)}\")"
   ]
  },
  {
   "cell_type": "markdown",
   "id": "63433511",
   "metadata": {},
   "source": [
    "### Assignment 11: Tuple and String\n",
    "\n",
    "Create a tuple with the characters of a string. Join the tuple elements into a single string. Print the string."
   ]
  },
  {
   "cell_type": "code",
   "execution_count": 11,
   "id": "d42a58d6",
   "metadata": {},
   "outputs": [
    {
     "name": "stdout",
     "output_type": "stream",
     "text": [
      "String : Sai\n"
     ]
    }
   ],
   "source": [
    "x = (\"S\", \"a\", \"i\")\n",
    "res = \"\"\n",
    "for i in x:\n",
    "    res += i\n",
    "print(f\"String : {res}\")"
   ]
  },
  {
   "cell_type": "markdown",
   "id": "c266d782",
   "metadata": {},
   "source": [
    "### Assignment 12: Tuple and Dictionary\n",
    "\n",
    "Create a dictionary with tuple keys and integer values. Print the dictionary."
   ]
  },
  {
   "cell_type": "code",
   "execution_count": 12,
   "id": "82496fdc",
   "metadata": {},
   "outputs": [
    {
     "name": "stdout",
     "output_type": "stream",
     "text": [
      "Tuple Dictionary : {(1, 2): 3, (4, 5): 6, (7, 8): 9}\n"
     ]
    }
   ],
   "source": [
    "x = {(1,2) : 3,\n",
    "     (4,5) : 6,\n",
    "     (7,8) : 9}\n",
    "print(f\"Tuple Dictionary : {x}\")"
   ]
  },
  {
   "cell_type": "markdown",
   "id": "04c79080",
   "metadata": {},
   "source": [
    "### Assignment 13: Nested Tuple Iteration\n",
    "\n",
    "Create a nested tuple and iterate over the elements, printing each element."
   ]
  },
  {
   "cell_type": "code",
   "execution_count": 13,
   "id": "354b721a",
   "metadata": {},
   "outputs": [
    {
     "name": "stdout",
     "output_type": "stream",
     "text": [
      "1 2 3 4 5 6 7 8 9 "
     ]
    }
   ],
   "source": [
    "x = ((1,2,3), (4,5,6), (7,8,9))\n",
    "for i in x:\n",
    "    for j in i:\n",
    "        print(j, end = \" \")"
   ]
  },
  {
   "cell_type": "markdown",
   "id": "27a273c4",
   "metadata": {},
   "source": [
    "### Assignment 14: Tuple and Set\n",
    "\n",
    "Create a tuple with duplicate elements. Convert it to a set to remove duplicates and print the resulting set."
   ]
  },
  {
   "cell_type": "code",
   "execution_count": 14,
   "id": "f53bfacb",
   "metadata": {},
   "outputs": [
    {
     "name": "stdout",
     "output_type": "stream",
     "text": [
      "Result : {0, 1, 2, 3, 4, 5, 7, 9}\n"
     ]
    }
   ],
   "source": [
    "x = (5,9,0,1,4,7,3,1,5,9,2,3,9)\n",
    "print(f\"Result : {set(x)}\")"
   ]
  },
  {
   "cell_type": "markdown",
   "id": "9c33d9d4",
   "metadata": {},
   "source": [
    "### Assignment 15: Tuple Functions\n",
    "\n",
    "Write functions that take a tuple and return the minimum, maximum, and sum of the elements. Print the results for a sample tuple."
   ]
  },
  {
   "cell_type": "code",
   "execution_count": 15,
   "id": "6be26f05",
   "metadata": {},
   "outputs": [
    {
     "name": "stdout",
     "output_type": "stream",
     "text": [
      "Minimun : 0 \n",
      "Maximum : 9 \n",
      "Sum : 58\n"
     ]
    }
   ],
   "source": [
    "x = (5,9,0,1,4,7,3,1,5,9,2,3,9)\n",
    "\n",
    "def minimum(x):\n",
    "    return min(x)\n",
    "\n",
    "def maximum(x):\n",
    "    return max(x)\n",
    "\n",
    "def sum_of_elements(x):\n",
    "    return sum(x)\n",
    "\n",
    "print(f\"Minimun : {minimum(x)} \\nMaximum : {maximum(x)} \\nSum : {sum_of_elements(x)}\")"
   ]
  }
 ],
 "metadata": {
  "kernelspec": {
   "display_name": "venv",
   "language": "python",
   "name": "python3"
  },
  "language_info": {
   "codemirror_mode": {
    "name": "ipython",
    "version": 3
   },
   "file_extension": ".py",
   "mimetype": "text/x-python",
   "name": "python",
   "nbconvert_exporter": "python",
   "pygments_lexer": "ipython3",
   "version": "3.12.2"
  }
 },
 "nbformat": 4,
 "nbformat_minor": 5
}
