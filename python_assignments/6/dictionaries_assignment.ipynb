{
 "cells": [
  {
   "cell_type": "markdown",
   "id": "694324b0",
   "metadata": {},
   "source": [
    "### Assignment 1: Creating and Accessing Dictionaries\n",
    "\n",
    "Create a dictionary with the first 10 positive integers as keys and their squares as values. Print the dictionary."
   ]
  },
  {
   "cell_type": "code",
   "execution_count": 2,
   "id": "b2dd4d67",
   "metadata": {},
   "outputs": [
    {
     "name": "stdout",
     "output_type": "stream",
     "text": [
      "Dict : {1: 1, 2: 4, 3: 9, 4: 16, 5: 25, 6: 36, 7: 49, 8: 64, 9: 81, 10: 100}\n"
     ]
    }
   ],
   "source": [
    "x = {i:i**2 for i in range(1,11)}\n",
    "print(f\"Dict : {x}\")"
   ]
  },
  {
   "cell_type": "markdown",
   "id": "9f1fbc82",
   "metadata": {},
   "source": [
    "### Assignment 2: Accessing Dictionary Elements\n",
    "\n",
    "Print the value of the key 5 and the keys of the dictionary created in Assignment 1."
   ]
  },
  {
   "cell_type": "code",
   "execution_count": 7,
   "id": "1d0fb297",
   "metadata": {},
   "outputs": [
    {
     "name": "stdout",
     "output_type": "stream",
     "text": [
      "Value of Key '5' is : 25\n",
      "The Keys of Dict is : 1 2 3 4 5 6 7 8 9 10 "
     ]
    }
   ],
   "source": [
    "print(f\"Value of Key '5' is : {x[5]}\")\n",
    "print(\"The Keys of Dict is :\", end = \" \")\n",
    "for i in x:\n",
    "    print(i, end = \" \")"
   ]
  },
  {
   "cell_type": "markdown",
   "id": "9e67d4e4",
   "metadata": {},
   "source": [
    "### Assignment 3: Dictionary Methods\n",
    "\n",
    "Add a new key-value pair (11, 121) to the dictionary created in Assignment 1 and then remove the key-value pair with key 1. Print the modified dictionary."
   ]
  },
  {
   "cell_type": "code",
   "execution_count": 9,
   "id": "bd568740",
   "metadata": {},
   "outputs": [
    {
     "name": "stdout",
     "output_type": "stream",
     "text": [
      "Dict : {1: 1, 2: 4, 3: 9, 4: 16, 5: 25, 6: 36, 7: 49, 8: 64, 9: 81, 10: 100, 11: 121}\n",
      "Dict : {2: 4, 3: 9, 4: 16, 5: 25, 6: 36, 7: 49, 8: 64, 9: 81, 10: 100, 11: 121}\n"
     ]
    }
   ],
   "source": [
    "x[11] = 121\n",
    "print(f\"Dict : {x}\")\n",
    "del x[1]\n",
    "print(f\"Dict : {x}\")"
   ]
  },
  {
   "cell_type": "markdown",
   "id": "39daaa73",
   "metadata": {},
   "source": [
    "### Assignment 4: Iterating Over Dictionaries\n",
    "\n",
    "Iterate over the dictionary created in Assignment 1 and print each key-value pair."
   ]
  },
  {
   "cell_type": "code",
   "execution_count": 12,
   "id": "8bbbaeed",
   "metadata": {},
   "outputs": [
    {
     "name": "stdout",
     "output_type": "stream",
     "text": [
      "The Key-Value Pair is :\n",
      "Key : 2, Value : 4\n",
      "Key : 3, Value : 9\n",
      "Key : 4, Value : 16\n",
      "Key : 5, Value : 25\n",
      "Key : 6, Value : 36\n",
      "Key : 7, Value : 49\n",
      "Key : 8, Value : 64\n",
      "Key : 9, Value : 81\n",
      "Key : 10, Value : 100\n",
      "Key : 11, Value : 121\n"
     ]
    }
   ],
   "source": [
    "print(\"The Key-Value Pair is :\")\n",
    "for i,j in x.items():\n",
    "    print(f\"Key : {i}, Value : {j}\")"
   ]
  },
  {
   "cell_type": "markdown",
   "id": "04bbffd2",
   "metadata": {},
   "source": [
    "### Assignment 5: Dictionary Comprehensions\n",
    "\n",
    "Create a new dictionary containing the cubes of the first 10 positive integers using a dictionary comprehension. Print the new dictionary."
   ]
  },
  {
   "cell_type": "code",
   "execution_count": 13,
   "id": "c7882a18",
   "metadata": {},
   "outputs": [
    {
     "name": "stdout",
     "output_type": "stream",
     "text": [
      "Dict : {1: 1, 2: 8, 3: 27, 4: 64, 5: 125, 6: 216, 7: 343, 8: 512, 9: 729, 10: 1000}\n"
     ]
    }
   ],
   "source": [
    "x = {i:i**3 for i in range(1,11)}\n",
    "print(f\"Dict : {x}\")"
   ]
  },
  {
   "cell_type": "markdown",
   "id": "9d7a22b7",
   "metadata": {},
   "source": [
    "### Assignment 6: Merging Dictionaries\n",
    "\n",
    "Create two dictionaries: one with keys as the first 5 positive integers and values as their squares, and another with keys as the next 5 positive integers and values as their squares. Merge these dictionaries into a single dictionary and print it."
   ]
  },
  {
   "cell_type": "code",
   "execution_count": 16,
   "id": "1fd5bcf2",
   "metadata": {},
   "outputs": [
    {
     "name": "stdout",
     "output_type": "stream",
     "text": [
      "Merging two Dictionaries : {1: 1, 2: 4, 3: 9, 4: 16, 5: 25, 6: 36, 7: 49, 8: 64, 9: 81, 10: 100}\n"
     ]
    }
   ],
   "source": [
    "x = {i:i**2 for i in range(1,6)}\n",
    "y = {i:i**2 for i in range(6,11)}\n",
    "\n",
    "x.update(y)\n",
    "print(f\"Merging two Dictionaries : {x}\")"
   ]
  },
  {
   "cell_type": "code",
   "execution_count": 22,
   "id": "50ca1804",
   "metadata": {},
   "outputs": [
    {
     "name": "stdout",
     "output_type": "stream",
     "text": [
      "Merging two Dictionaries : ({1: 1, 2: 4, 3: 9, 4: 16, 5: 25}, {1: 1, 2: 4, 3: 9, 4: 16, 5: 25, 6: 36, 7: 49, 8: 64, 9: 81, 10: 100})\n"
     ]
    }
   ],
   "source": [
    "x = {i:i**2 for i in range(1,6)}\n",
    "y = {i:i**2 for i in range(6,11)}\n",
    "z = x.copy()\n",
    "\n",
    "z.update(y)\n",
    "print(f\"Merging two Dictionaries : {x,z}\")"
   ]
  },
  {
   "cell_type": "markdown",
   "id": "5e3f4751",
   "metadata": {},
   "source": [
    "### Assignment 7: Nested Dictionaries\n",
    "\n",
    "Create a nested dictionary representing a student with keys 'name', 'age', 'grades', where 'grades' is another dictionary with keys 'math', 'science', and 'english'. Print the nested dictionary."
   ]
  },
  {
   "cell_type": "code",
   "execution_count": 23,
   "id": "5883c30c",
   "metadata": {},
   "outputs": [
    {
     "name": "stdout",
     "output_type": "stream",
     "text": [
      "Nested Dictionary : {'name': 'Sai', 'age': 24, 'grades': {'maths': 98, 'science': 75, 'english': 50}}\n"
     ]
    }
   ],
   "source": [
    "x = {\"name\" : \"Sai\", \"age\" : 24, \"grades\" : {\"maths\" : 98, \"science\" : 75, \"english\" : 50}}\n",
    "print(f\"Nested Dictionary : {x}\")"
   ]
  },
  {
   "cell_type": "markdown",
   "id": "c6c67386",
   "metadata": {},
   "source": [
    "### Assignment 8: Dictionary of Lists\n",
    "\n",
    "Create a dictionary where the keys are the first 5 positive integers and the values are lists containing the first 5 multiples of the key. Print the dictionary."
   ]
  },
  {
   "cell_type": "code",
   "execution_count": 27,
   "id": "eca56517",
   "metadata": {},
   "outputs": [
    {
     "name": "stdout",
     "output_type": "stream",
     "text": [
      "{1: [1, 2, 3, 4, 5], 2: [2, 4, 6, 8, 10], 3: [3, 6, 9, 12, 15], 4: [4, 8, 12, 16, 20], 5: [5, 10, 15, 20, 25]}\n"
     ]
    }
   ],
   "source": [
    "x = {j:[i*j for i in range(1,6)] for j in range(1,6)}\n",
    "print(x)"
   ]
  },
  {
   "cell_type": "markdown",
   "id": "2a0ef1e8",
   "metadata": {},
   "source": [
    "### Assignment 10: Dictionary and List Conversion\n",
    "\n",
    "Create a dictionary with the first 5 positive integers as keys and their squares as values. Convert the dictionary to a list of tuples and print it."
   ]
  },
  {
   "cell_type": "code",
   "execution_count": 32,
   "id": "792fd98a",
   "metadata": {},
   "outputs": [
    {
     "name": "stdout",
     "output_type": "stream",
     "text": [
      "x : [(1, 1), (2, 4), (3, 9), (4, 16), (5, 25)]\n"
     ]
    }
   ],
   "source": [
    "x = {i:i**2 for i in range(1,6)}\n",
    "x = list(x.items())\n",
    "print(f\"x : {x}\")"
   ]
  },
  {
   "cell_type": "markdown",
   "id": "8ef6e624",
   "metadata": {},
   "source": [
    "### Assignment 11: Dictionary Filtering\n",
    "\n",
    "Create a dictionary with the first 10 positive integers as keys and their squares as values. Create a new dictionary containing only the key-value pairs where the key is even. Print the new dictionary."
   ]
  },
  {
   "cell_type": "code",
   "execution_count": 36,
   "id": "2ff34e0e",
   "metadata": {},
   "outputs": [
    {
     "name": "stdout",
     "output_type": "stream",
     "text": [
      "Dict : {1: 1, 2: 4, 3: 9, 4: 16, 5: 25, 6: 36, 7: 49, 8: 64, 9: 81, 10: 100}\n",
      "Filtered Dict : {2: 4, 4: 16, 6: 36, 8: 64, 10: 100}\n"
     ]
    }
   ],
   "source": [
    "x = {i:i**2 for i in range(1,11)}\n",
    "y = {i:j for i,j in x.items() if i%2 == 0}\n",
    "print(f\"Dict : {x}\")\n",
    "print(f\"Filtered Dict : {y}\")"
   ]
  },
  {
   "cell_type": "markdown",
   "id": "26d8c89b",
   "metadata": {},
   "source": [
    "### Assignment 12: Dictionary Key and Value Transformation\n",
    "\n",
    "Create a dictionary with the first 5 positive integers as keys and their squares as values. Create a new dictionary with keys and values swapped. Print the new dictionary."
   ]
  },
  {
   "cell_type": "code",
   "execution_count": 37,
   "id": "c8a363d7",
   "metadata": {},
   "outputs": [
    {
     "name": "stdout",
     "output_type": "stream",
     "text": [
      "Dict : {1: 1, 2: 4, 3: 9, 4: 16, 5: 25}\n",
      "Swapped Dict : {1: 1, 4: 2, 9: 3, 16: 4, 25: 5}\n"
     ]
    }
   ],
   "source": [
    "x = {i:i**2 for i in range(1,6)}\n",
    "print(f\"Dict : {x}\")\n",
    "y = {j:i for i,j in x.items()}\n",
    "print(f\"Swapped Dict : {y}\")"
   ]
  },
  {
   "cell_type": "markdown",
   "id": "9f681a3a",
   "metadata": {},
   "source": [
    "### Assignment 13: Default Dictionary\n",
    "\n",
    "Create a default dictionary where each key has a default value of an empty list. Add some elements to the lists and print the dictionary."
   ]
  },
  {
   "cell_type": "code",
   "execution_count": 41,
   "id": "3c2cfb5d",
   "metadata": {},
   "outputs": [
    {
     "name": "stdout",
     "output_type": "stream",
     "text": [
      "Dict : {1: 'Sai', 2: 24, 3: True, 4: None, 5: []}\n"
     ]
    }
   ],
   "source": [
    "x = {i:[] for i in range(1,6)}\n",
    "x[1], x[2], x[3], x[4] = \"Sai\", 24, True, None\n",
    "print(f\"Dict : {x}\")"
   ]
  },
  {
   "cell_type": "markdown",
   "id": "2cc1c52f",
   "metadata": {},
   "source": [
    "### Assignment 14: Counting with Dictionaries\n",
    "\n",
    "Write a function that takes a string and returns a dictionary with the count of each character in the string. Print the dictionary."
   ]
  },
  {
   "cell_type": "code",
   "execution_count": 42,
   "id": "0300e054",
   "metadata": {},
   "outputs": [
    {
     "name": "stdout",
     "output_type": "stream",
     "text": [
      "Result : {'C': 1, 'o': 2, 'u': 1, 'n': 3, 't': 3, 'i': 5, 'g': 1, ' ': 2, 'W': 1, 'h': 1, 'D': 1, 'c': 1, 'a': 1, 'r': 1, 'e': 1, 's': 1}\n"
     ]
    }
   ],
   "source": [
    "x = \"Counting With Dictionaries\"\n",
    "def count(x):\n",
    "    return {i:x.count(i) for i in x}\n",
    "\n",
    "print(f\"Result : {count(x)}\")"
   ]
  },
  {
   "cell_type": "markdown",
   "id": "30b913fe",
   "metadata": {},
   "source": [
    "### Assignment 15: Dictionary and JSON\n",
    "\n",
    "Create a dictionary representing a book with keys 'title', 'author', 'year', and 'genre'. Convert the dictionary to a JSON string and print it."
   ]
  },
  {
   "cell_type": "code",
   "execution_count": 44,
   "id": "876a1d73",
   "metadata": {},
   "outputs": [
    {
     "name": "stdout",
     "output_type": "stream",
     "text": [
      "Json : {\"title\": \"Python\", \"author\": \"Sai\", \"year\": 2000, \"genre\": \"Programming\"}\n"
     ]
    }
   ],
   "source": [
    "import json\n",
    "\n",
    "x = {\"title\" : \"Python\", \"author\" : \"Sai\", \"year\" : 2000, \"genre\" : \"Programming\"}\n",
    "print(f\"Json : {json.dumps(x)}\")"
   ]
  }
 ],
 "metadata": {
  "kernelspec": {
   "display_name": "venv",
   "language": "python",
   "name": "python3"
  },
  "language_info": {
   "codemirror_mode": {
    "name": "ipython",
    "version": 3
   },
   "file_extension": ".py",
   "mimetype": "text/x-python",
   "name": "python",
   "nbconvert_exporter": "python",
   "pygments_lexer": "ipython3",
   "version": "3.12.2"
  }
 },
 "nbformat": 4,
 "nbformat_minor": 5
}
