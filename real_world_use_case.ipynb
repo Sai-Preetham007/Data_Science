{
 "cells": [
  {
   "cell_type": "markdown",
   "metadata": {},
   "source": [
    "# Validate Email Address"
   ]
  },
  {
   "cell_type": "code",
   "execution_count": 1,
   "metadata": {},
   "outputs": [
    {
     "name": "stdout",
     "output_type": "stream",
     "text": [
      "True\n",
      "False\n"
     ]
    }
   ],
   "source": [
    "import re\n",
    "\n",
    "def is_valid_email(email):\n",
    "    pattern = r'[a-zA-Z0-9._%+-]+@[a-zA-Z0-9.-]+\\.[a-zA-Z]{2,}'\n",
    "    return re.match(pattern, email) is not None\n",
    "\n",
    "print(is_valid_email(\"test@sample.com\"))\n",
    "print(is_valid_email(\"invalid-email.7\"))"
   ]
  },
  {
   "cell_type": "markdown",
   "metadata": {},
   "source": [
    "# Password Strength Checker"
   ]
  },
  {
   "cell_type": "code",
   "execution_count": 2,
   "metadata": {},
   "outputs": [
    {
     "name": "stdout",
     "output_type": "stream",
     "text": [
      "False\n",
      "True\n"
     ]
    }
   ],
   "source": [
    "def is_strong_password(password):\n",
    "    if len(password)<8:\n",
    "        return False\n",
    "    if not any(char.isdigit() for char in password):\n",
    "        return False\n",
    "    if not any(char.islower() for char in password):\n",
    "        return False\n",
    "    if not any(char.isupper() for char in password):\n",
    "        return False\n",
    "    if not any(char in '!@#$%^&*()_' for char in password):\n",
    "        return False\n",
    "    return True\n",
    "\n",
    "print(is_strong_password(\"WeakPwd\"))\n",
    "print(is_strong_password(\"Str0ngPwd!\"))"
   ]
  },
  {
   "cell_type": "markdown",
   "metadata": {},
   "source": [
    "# Modelling a Bank Account using Oops"
   ]
  },
  {
   "cell_type": "code",
   "execution_count": 3,
   "metadata": {},
   "outputs": [],
   "source": [
    "class Bank_Account():\n",
    "    def __init__(self, owner, balance):\n",
    "        self.owner = owner\n",
    "        self.balance = balance\n",
    "    def deposit(self, amount):\n",
    "        self.balance += amount\n",
    "        print(f\"Deposited Amount : {amount} \\nTotal Balance : {self.balance}\")\n",
    "    def withdraw(self, amount):\n",
    "        if amount>self.balance:\n",
    "            print(\"Insufficient Funds!\")\n",
    "        else:\n",
    "            self.balance -= amount\n",
    "        print(f\"Withdraw Amount : {amount} \\nTotal Balance : {self.balance}\")\n",
    "    def balance(self):\n",
    "        return self.balance\n",
    "    \n",
    "acc1 = Bank_Account(\"Sai Preetham\", 50000)\n",
    "acc2 = Bank_Account(\"Krishna Chaitanya\", 15000)"
   ]
  },
  {
   "cell_type": "code",
   "execution_count": 4,
   "metadata": {},
   "outputs": [
    {
     "data": {
      "text/plain": [
       "15000"
      ]
     },
     "execution_count": 4,
     "metadata": {},
     "output_type": "execute_result"
    }
   ],
   "source": [
    "acc2.balance"
   ]
  },
  {
   "cell_type": "code",
   "execution_count": 5,
   "metadata": {},
   "outputs": [
    {
     "name": "stdout",
     "output_type": "stream",
     "text": [
      "Withdraw Amount : 2500 \n",
      "Total Balance : 47500\n"
     ]
    }
   ],
   "source": [
    "acc1.withdraw(2500)"
   ]
  },
  {
   "cell_type": "code",
   "execution_count": 6,
   "metadata": {},
   "outputs": [
    {
     "name": "stdout",
     "output_type": "stream",
     "text": [
      "Deposited Amount : 3000 \n",
      "Total Balance : 18000\n"
     ]
    }
   ],
   "source": [
    "acc2.deposit(3000)"
   ]
  },
  {
   "cell_type": "markdown",
   "metadata": {},
   "source": [
    "# Normalization"
   ]
  },
  {
   "cell_type": "code",
   "execution_count": 7,
   "metadata": {},
   "outputs": [],
   "source": [
    "import numpy as np"
   ]
  },
  {
   "cell_type": "code",
   "execution_count": 8,
   "metadata": {},
   "outputs": [
    {
     "name": "stdout",
     "output_type": "stream",
     "text": [
      "Normalized Data :  [-1.41421356 -0.70710678  0.          0.70710678  1.41421356]\n"
     ]
    }
   ],
   "source": [
    "data = np.array([1,2,3,4,5])\n",
    "\n",
    "# Calculate the mean and standard deviation.\n",
    "mean = np.mean(data)\n",
    "std_dev = np.std(data)\n",
    "\n",
    "# Normalize the data\n",
    "normalized_data = (data-mean)/std_dev\n",
    "print(\"Normalized Data : \", normalized_data)"
   ]
  },
  {
   "cell_type": "markdown",
   "metadata": {},
   "source": [
    "# Remove Outliers\n",
    "\n",
    "* Sort the given list.\n",
    "* [Lower fence - Higher fence] ---> below lower fence and above higher fence are outliers need to remove them.\n",
    "* lower fence = Q1 - 1.5(IQR)\n",
    "* Higher fence = Q3 + 1.5(IQR)\n",
    "* IQR = Q3 - Q1  # Q ---> Quartile, IQR ---> Inter Quartile Range.\n",
    "* Q1 = 25 percentile, Q2 = 50 percentile, Q3 = 75 percentile\n",
    "* Q1 = x[ (25/100)x(n+1) - 1], Q2 = x[ (50/100)x(n+1) - 1], Q3 = x[ (75/100)x(n+1) - 1]."
   ]
  },
  {
   "cell_type": "code",
   "execution_count": 9,
   "metadata": {},
   "outputs": [
    {
     "name": "stdout",
     "output_type": "stream",
     "text": [
      "Sorted List : [1, 2, 2, 2, 3, 3, 4, 5, 5, 5, 6, 6, 6, 6, 7, 8, 8, 9, 27]\n",
      "Length of List(n) = 19\n",
      "Q1 = 3 \n",
      "Q3 = 7\n",
      "IQR = 4\n",
      "Lower Fence = -3.0 \n",
      "Higher Fence = 13.0\n",
      "Result : [1, 2, 2, 2, 3, 3, 4, 5, 5, 5, 6, 6, 6, 6, 7, 8, 8, 9]\n"
     ]
    }
   ],
   "source": [
    "num_list = [5,6,1,3,2,2,8,5,2,3,9,27,8,7,6,5,4,6,6]\n",
    "\n",
    "num_list.sort()\n",
    "print(f\"Sorted List : {num_list}\")\n",
    "\n",
    "n = len(num_list)\n",
    "print(f\"Length of List(n) = {n}\")\n",
    "\n",
    "Q1 = num_list[int((25/100)*(n+1)) - 1]\n",
    "Q3 = num_list[int((75/100)*(n+1)) - 1]\n",
    "print(f\"Q1 = {Q1} \\nQ3 = {Q3}\")\n",
    "\n",
    "IQR = Q3-Q1\n",
    "print(f\"IQR = {IQR}\")\n",
    "\n",
    "lower_fence = Q1 - 1.5*(IQR)\n",
    "higher_fence = Q3 + 1.5*(IQR)\n",
    "print(f\"Lower Fence = {lower_fence} \\nHigher Fence = {higher_fence}\")\n",
    "\n",
    "res = [i for i in num_list if i >= lower_fence and i <= higher_fence]\n",
    "print(f\"Result : {res}\")"
   ]
  },
  {
   "cell_type": "markdown",
   "metadata": {},
   "source": [
    "### Box plot helps in identifying the outliers."
   ]
  },
  {
   "cell_type": "code",
   "execution_count": 10,
   "metadata": {},
   "outputs": [
    {
     "data": {
      "image/png": "[encoded data removed]",
      "text/plain": [
       "<Figure size 1500x500 with 2 Axes>"
      ]
     },
     "metadata": {},
     "output_type": "display_data"
    }
   ],
   "source": [
    "import matplotlib.pyplot as plt\n",
    "\n",
    "plt.figure(figsize=(15,5))\n",
    "\n",
    "plt.subplot(1,2,1)\n",
    "plt.boxplot(num_list)\n",
    "plt.xlabel(\"X-axis\")\n",
    "plt.ylabel(\"Y-axis\")\n",
    "plt.title(\"Original\", color=\"red\")\n",
    "\n",
    "plt.subplot(1,2,2)\n",
    "plt.boxplot(res)\n",
    "plt.xlabel(\"X-axis\")\n",
    "plt.ylabel(\"Y-axis\")\n",
    "plt.title(\"Result\", color=\"red\")\n",
    "plt.show()"
   ]
  }
 ],
 "metadata": {
  "kernelspec": {
   "display_name": "venv",
   "language": "python",
   "name": "python3"
  },
  "language_info": {
   "codemirror_mode": {
    "name": "ipython",
    "version": 3
   },
   "file_extension": ".py",
   "mimetype": "text/x-python",
   "name": "python",
   "nbconvert_exporter": "python",
   "pygments_lexer": "ipython3",
   "version": "3.12.2"
  }
 },
 "nbformat": 4,
 "nbformat_minor": 2
}
