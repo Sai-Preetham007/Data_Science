{
 "cells": [
  {
   "cell_type": "markdown",
   "metadata": {},
   "source": [
    "# 2 - Marks"
   ]
  },
  {
   "cell_type": "code",
   "execution_count": 1,
   "metadata": {},
   "outputs": [
    {
     "name": "stdout",
     "output_type": "stream",
     "text": [
      "Result : 1020 \n",
      "Data Type : <class 'int'>\n"
     ]
    }
   ],
   "source": [
    "a = \"10\"\n",
    "b = 20\n",
    "\n",
    "res = int(a + str(b))\n",
    "print(f\"Result : {res} \\nData Type : {type(res)}\")"
   ]
  },
  {
   "cell_type": "code",
   "execution_count": 2,
   "metadata": {},
   "outputs": [
    {
     "data": {
      "text/plain": [
       "{2: 1.4142135623730951,\n",
       " 4: 2.0,\n",
       " 6: 2.449489742783178,\n",
       " 8: 2.8284271247461903,\n",
       " 10: 3.1622776601683795}"
      ]
     },
     "execution_count": 2,
     "metadata": {},
     "output_type": "execute_result"
    }
   ],
   "source": [
    "{i : i**0.5 for i in range(2,11,2)}"
   ]
  },
  {
   "cell_type": "markdown",
   "metadata": {},
   "source": [
    "# 4 - Marks"
   ]
  },
  {
   "cell_type": "code",
   "execution_count": 3,
   "metadata": {},
   "outputs": [
    {
     "data": {
      "text/plain": [
       "{'Python', 'and', 'easy', 'great', 'is'}"
      ]
     },
     "execution_count": 3,
     "metadata": {},
     "output_type": "execute_result"
    }
   ],
   "source": [
    "s = \"Python is great and Python is easy\"\n",
    "\n",
    "res = s.split(\" \")\n",
    "set(res)"
   ]
  },
  {
   "cell_type": "code",
   "execution_count": 4,
   "metadata": {},
   "outputs": [
    {
     "name": "stdout",
     "output_type": "stream",
     "text": [
      "Vowels Count : 3 \n",
      "Consonants Count : 7\n"
     ]
    }
   ],
   "source": [
    "s = \"hello world\"\n",
    "\n",
    "v,c = 0,0\n",
    "s = \"\".join(s.split(\" \"))\n",
    "vowels = [\"a\", \"e\", \"i\", \"o\", \"u\"]\n",
    "for i in s:\n",
    "    if i in vowels:\n",
    "        v += 1\n",
    "    else:\n",
    "        c += 1\n",
    "print(f\"Vowels Count : {v} \\nConsonants Count : {c}\")"
   ]
  },
  {
   "cell_type": "code",
   "execution_count": 5,
   "metadata": {},
   "outputs": [
    {
     "name": "stdout",
     "output_type": "stream",
     "text": [
      "{'a': 10, 'b': 20}\n"
     ]
    },
    {
     "data": {
      "text/plain": [
       "{'a': 10, 'b': 50, 'c': 40}"
      ]
     },
     "execution_count": 5,
     "metadata": {},
     "output_type": "execute_result"
    }
   ],
   "source": [
    "dict1 = {'a': 10, 'b': 20}\n",
    "dict2 = {'b': 30, 'c': 40}\n",
    "\n",
    "res = dict1.copy()\n",
    "print(res)\n",
    "\n",
    "for i in dict2:\n",
    "    if i not in res:\n",
    "        res[i] = dict2[i]\n",
    "    else:\n",
    "        res[i] = res[i]+dict2[i]\n",
    "res"
   ]
  },
  {
   "cell_type": "code",
   "execution_count": 6,
   "metadata": {},
   "outputs": [
    {
     "data": {
      "text/plain": [
       "{'b': 40, 'a': 15, 'c': 10}"
      ]
     },
     "execution_count": 6,
     "metadata": {},
     "output_type": "execute_result"
    }
   ],
   "source": [
    "data = {'a': 15, 'b': 40, 'c': 10}\n",
    "\n",
    "rev_data = {j : i for i,j in data.items()}\n",
    "temp = sorted(rev_data)[::-1]\n",
    "res = {}\n",
    "for i in temp:\n",
    "    res[i] = rev_data[i]\n",
    "result = {j : i for i,j in res.items()}\n",
    "result"
   ]
  },
  {
   "cell_type": "markdown",
   "metadata": {},
   "source": [
    "# 10 - Marks"
   ]
  },
  {
   "cell_type": "code",
   "execution_count": 7,
   "metadata": {},
   "outputs": [
    {
     "data": {
      "text/plain": [
       "[['eat', 'tea', 'ate'], ['tan', 'nat'], ['bat']]"
      ]
     },
     "execution_count": 7,
     "metadata": {},
     "output_type": "execute_result"
    }
   ],
   "source": [
    "x = [\"eat\", \"tea\", \"tan\", \"ate\", \"nat\", \"bat\"]\n",
    "\n",
    "y = {}\n",
    "for i in x:\n",
    "    temp1 = \"\".join(sorted(i))\n",
    "    if temp1 in y:\n",
    "        y[temp1].append(i)\n",
    "    else:\n",
    "        y[temp1] = [i]\n",
    "list(y.values())"
   ]
  },
  {
   "cell_type": "code",
   "execution_count": 8,
   "metadata": {},
   "outputs": [
    {
     "name": "stdout",
     "output_type": "stream",
     "text": [
      "Unique Words : {'date', 'cherry', 'banana', 'apple'}\n",
      "Longest Word : banana\n",
      "Word Length Tuples : [('date', 4), ('cherry', 6), ('banana', 6), ('apple', 5)]\n",
      "Join Unique Strings : date-cherry-banana-apple\n"
     ]
    }
   ],
   "source": [
    "x = [\"apple\", \"banana\", \"apple\", \"cherry\", \"date\", \"banana\", \"apple\"]\n",
    "\n",
    "print(\"Unique Words :\", set(x))\n",
    "\n",
    "max_word_len = 0\n",
    "for i in x:\n",
    "    if len(i)>max_word_len:\n",
    "        max_word_len = len(i)\n",
    "        longest_word = i\n",
    "print(\"Longest Word :\", longest_word)\n",
    "\n",
    "temp = set(x)\n",
    "res = []\n",
    "for i in temp:\n",
    "    res.append((i, len(i)))\n",
    "print(\"Word Length Tuples :\", res)\n",
    "\n",
    "print(\"Join Unique Strings :\", \"-\".join(set(x)))"
   ]
  }
 ],
 "metadata": {
  "kernelspec": {
   "display_name": "Python 3",
   "language": "python",
   "name": "python3"
  },
  "language_info": {
   "codemirror_mode": {
    "name": "ipython",
    "version": 3
   },
   "file_extension": ".py",
   "mimetype": "text/x-python",
   "name": "python",
   "nbconvert_exporter": "python",
   "pygments_lexer": "ipython3",
   "version": "3.13.3"
  }
 },
 "nbformat": 4,
 "nbformat_minor": 2
}
