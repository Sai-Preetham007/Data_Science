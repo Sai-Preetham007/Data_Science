{
 "cells": [
  {
   "cell_type": "markdown",
   "metadata": {},
   "source": [
    "### Prime Numbers"
   ]
  },
  {
   "cell_type": "code",
   "execution_count": 1,
   "metadata": {},
   "outputs": [
    {
     "name": "stdout",
     "output_type": "stream",
     "text": [
      "Prime Numbers : 2 3 5 7 11 13 17 19 23 29 31 37 41 43 47 53 59 61 67 71 73 79 83 89 97 101 103 107 109 113 127 131 137 139 149 151 157 163 167 173 179 181 191 193 197 199 211 223 227 229 233 239 241 251 257 263 269 271 277 281 283 293 307 311 313 317 331 337 347 349 353 359 367 373 379 383 389 397 401 409 419 421 431 433 439 443 449 457 461 463 467 479 487 491 499 503 509 521 523 541 547 557 563 569 571 577 587 593 599 601 607 613 617 619 631 641 643 647 653 659 661 673 677 683 691 701 709 719 727 733 739 743 751 757 761 769 773 787 797 809 811 821 823 827 829 839 853 857 859 863 877 881 883 887 907 911 919 929 937 941 947 953 967 971 977 983 991 997 CPU times: total: 15.6 ms\n",
      "Wall time: 22 ms\n"
     ]
    }
   ],
   "source": [
    "%%time\n",
    "print(\"Prime Numbers :\", end = \" \")\n",
    "for i in range(2, 1001):\n",
    "    count = 0\n",
    "    for j in range(1, i+1):\n",
    "        if i%j == 0:\n",
    "            count += 1\n",
    "    if count == 2:\n",
    "        print(f\"{j}\", end = \" \")"
   ]
  },
  {
   "cell_type": "code",
   "execution_count": 2,
   "metadata": {},
   "outputs": [
    {
     "name": "stdout",
     "output_type": "stream",
     "text": [
      "Prime Numbers : 2 3 5 7 11 13 17 19 23 29 31 37 41 43 47 53 59 61 67 71 73 79 83 89 97 101 103 107 109 113 127 131 137 139 149 151 157 163 167 173 179 181 191 193 197 199 211 223 227 229 233 239 241 251 257 263 269 271 277 281 283 293 307 311 313 317 331 337 347 349 353 359 367 373 379 383 389 397 401 409 419 421 431 433 439 443 449 457 461 463 467 479 487 491 499 503 509 521 523 541 547 557 563 569 571 577 587 593 599 601 607 613 617 619 631 641 643 647 653 659 661 673 677 683 691 701 709 719 727 733 739 743 751 757 761 769 773 787 797 809 811 821 823 827 829 839 853 857 859 863 877 881 883 887 907 911 919 929 937 941 947 953 967 971 977 983 991 997 CPU times: total: 0 ns\n",
      "Wall time: 0 ns\n"
     ]
    }
   ],
   "source": [
    "%%time\n",
    "print(\"Prime Numbers :\", end = \" \")\n",
    "for i in range(2, 1001):\n",
    "    for j in range(2, i):\n",
    "        if i%j == 0:\n",
    "            break\n",
    "    else:\n",
    "        print(f\"{i}\", end = \" \")"
   ]
  },
  {
   "cell_type": "markdown",
   "metadata": {},
   "source": [
    "### Fibonacci Series"
   ]
  },
  {
   "cell_type": "code",
   "execution_count": 3,
   "metadata": {},
   "outputs": [
    {
     "name": "stdout",
     "output_type": "stream",
     "text": [
      "Fibonacci Series :  0 1 1 2 3 5 8 13 21 34 "
     ]
    }
   ],
   "source": [
    "x = 10\n",
    "print(\"Fibonacci Series : \", end = \" \")\n",
    "\n",
    "a, b = 0, 1\n",
    "res = 0\n",
    "while res < x:\n",
    "    print(a, end = \" \")\n",
    "    a, b = b, a+b\n",
    "    res += 1"
   ]
  },
  {
   "cell_type": "markdown",
   "metadata": {},
   "source": [
    "### List of Dictionaries\n",
    "\n",
    "Create a list of dictionaries where each dictionary represents a student with keys 'name' and 'score'. Sort the list of dictionaries by the 'score' in descending order and print the sorted list"
   ]
  },
  {
   "cell_type": "code",
   "execution_count": 4,
   "metadata": {},
   "outputs": [
    {
     "name": "stdout",
     "output_type": "stream",
     "text": [
      "Sorted List : [{'Name': 'Krishna', 'Score': 97}, {'Name': 'Preetham', 'Score': 92}, {'Name': 'Sai', 'Score': 85}, {'Name': 'Barghav', 'Score': 75}, {'Name': 'Cintu', 'Score': 60}]\n"
     ]
    }
   ],
   "source": [
    "x = [{\"Name\" : \"Sai\", \"Score\" : 85},\n",
    "     {\"Name\" : \"Krishna\", \"Score\" : 97},\n",
    "     {\"Name\" : \"Barghav\", \"Score\" : 75},\n",
    "     {\"Name\" : \"Cintu\", \"Score\" : 60},\n",
    "     {\"Name\" : \"Preetham\", \"Score\" : 92}]\n",
    "\n",
    "def get_score(x):\n",
    "    return x[\"Score\"]\n",
    "\n",
    "x.sort(key=get_score, reverse=True)        # sorted(x, key=get_score, reverse=True).\n",
    "print(f\"Sorted List : {x}\")"
   ]
  },
  {
   "cell_type": "markdown",
   "metadata": {},
   "source": [
    "### Calculate the total cost of Items in the Shopping Cart"
   ]
  },
  {
   "cell_type": "code",
   "execution_count": 5,
   "metadata": {},
   "outputs": [
    {
     "name": "stdout",
     "output_type": "stream",
     "text": [
      "The total cost of items in a cart is : 700 rs\n"
     ]
    }
   ],
   "source": [
    "def add_cart(cart):\n",
    "    total_cost = 0\n",
    "    for item in cart:\n",
    "        total_cost += item[\"Price\"]*item[\"Quantity\"]\n",
    "    return total_cost\n",
    "\n",
    "cart = [\n",
    "    {\"Name\" : \"Apple\", \"Price\" : 50, \"Quantity\" : 5},\n",
    "    {\"Name\" : \"Banana\", \"Price\" :25, \"Quantity\" : 12},\n",
    "    {\"Name\" : \"Water Melon\", \"Price\" : 75, \"Quantity\" : 2}\n",
    "              ]\n",
    "\n",
    "print(f\"The total cost of items in a cart is : {add_cart(cart)} rs\")"
   ]
  },
  {
   "cell_type": "markdown",
   "metadata": {},
   "source": [
    "### Palindrome"
   ]
  },
  {
   "cell_type": "code",
   "execution_count": 6,
   "metadata": {},
   "outputs": [
    {
     "name": "stdout",
     "output_type": "stream",
     "text": [
      "True\n"
     ]
    }
   ],
   "source": [
    "def is_palindrome(s):\n",
    "    s = s.lower().replace(\" \", \"\")\n",
    "    return s == s[::-1]\n",
    "\n",
    "print(is_palindrome(\"A man a plan a canal Panama\"))"
   ]
  },
  {
   "cell_type": "markdown",
   "metadata": {},
   "source": [
    "### Calculate the factorial of a number using reccurssion"
   ]
  },
  {
   "cell_type": "code",
   "execution_count": 7,
   "metadata": {},
   "outputs": [
    {
     "name": "stdout",
     "output_type": "stream",
     "text": [
      "120\n"
     ]
    }
   ],
   "source": [
    "def factorial(n):\n",
    "    if n==0:\n",
    "        return 1\n",
    "    else:\n",
    "        return n*factorial(n-1)\n",
    "    \n",
    "print(factorial(5))"
   ]
  },
  {
   "cell_type": "markdown",
   "metadata": {},
   "source": [
    "### Number of Even and Odd Elements in a list"
   ]
  },
  {
   "cell_type": "code",
   "execution_count": 8,
   "metadata": {},
   "outputs": [
    {
     "data": {
      "text/plain": [
       "(2, 3)"
      ]
     },
     "execution_count": 8,
     "metadata": {},
     "output_type": "execute_result"
    }
   ],
   "source": [
    "x = [1,2,3,4,5]\n",
    "\n",
    "def count_even_odd(lst):\n",
    "    return len(list(filter(lambda x:x%2==0, lst))), len(list(filter(lambda x:x%2!=0, lst)))\n",
    "\n",
    "count_even_odd(x)"
   ]
  },
  {
   "cell_type": "markdown",
   "metadata": {},
   "source": [
    "### Rotation by k times from end"
   ]
  },
  {
   "cell_type": "code",
   "execution_count": 9,
   "metadata": {},
   "outputs": [
    {
     "name": "stdout",
     "output_type": "stream",
     "text": [
      "[4, 5, 1, 2, 3]\n"
     ]
    }
   ],
   "source": [
    "lst,k = [1,2,3,4,5],2\n",
    "res = []\n",
    "\n",
    "k = k%len(lst)       # if k > len(lst).\n",
    "for i in range(k):\n",
    "    res.append(lst[len(lst)-k+i])\n",
    "for i in range(len(lst)-k):\n",
    "    res.append(lst[i])\n",
    "print(res)"
   ]
  },
  {
   "cell_type": "markdown",
   "metadata": {},
   "source": [
    "### Words Frequency"
   ]
  },
  {
   "cell_type": "code",
   "execution_count": 10,
   "metadata": {},
   "outputs": [
    {
     "name": "stdout",
     "output_type": "stream",
     "text": [
      "{'hello': 4, 'world': 2, 'Sai': 1}\n"
     ]
    }
   ],
   "source": [
    "x = \"hello world hello hello world hello Sai\"\n",
    "x = x.split()\n",
    "temp,res = [],dict()\n",
    "\n",
    "for i in x:\n",
    "    if i not in res:\n",
    "        temp.append(i)\n",
    "for i in temp:\n",
    "    res[i] = x.count(i)\n",
    "print(res)"
   ]
  },
  {
   "cell_type": "markdown",
   "metadata": {},
   "source": [
    "### Replacing Outliers"
   ]
  },
  {
   "cell_type": "code",
   "execution_count": 11,
   "metadata": {},
   "outputs": [
    {
     "name": "stdout",
     "output_type": "stream",
     "text": [
      "Original Data : [45, 76, 8, 4, 576, 9, 93, 87, 24, 600]\n",
      "\n",
      "Q1 : 8\n",
      "Q2 : 45\n",
      "Q3 : 93\n",
      "\n",
      "IQR : 85\n",
      "\n",
      "Lower Fence : -119.5\n",
      "Higher Fence : 220.5\n",
      "\n",
      "Updated Data : [45, 76, 8, 4, 43, 9, 93, 87, 24, 43]\n"
     ]
    }
   ],
   "source": [
    "import numpy as np\n",
    "\n",
    "data = [45, 76, 8, 4, 576, 9, 93, 87, 24, 600]\n",
    "print(f\"Original Data : {data}\\n\")\n",
    "x = data.copy()\n",
    "x.sort()\n",
    "\n",
    "q1 = int(0.25*(len(x)+1))\n",
    "q2 = int(0.5*(len(x)+1))\n",
    "q3 = int(0.75*(len(x)+1))\n",
    "\n",
    "Q1 = x[q1-1]             # Quartile 1\n",
    "Q2 = x[q2-1]             # Quartile 2\n",
    "Q3  =x[q3-1]             # Quartile 3\n",
    "\n",
    "IQR = Q3 - Q1            # Inter Quartile Range\n",
    "\n",
    "Lower_Fence = Q1 - 1.5*(IQR)\n",
    "Higher_Fence = Q3 + 1.5*(IQR)\n",
    "\n",
    "print(f\"Q1 : {Q1}\\nQ2 : {Q2}\\nQ3 : {Q3}\\n\\nIQR : {IQR}\\n\\nLower Fence : {Lower_Fence}\\nHigher Fence : {Higher_Fence}\\n\")\n",
    "\n",
    "temp = [i for i in x if i>Lower_Fence and i<Higher_Fence]\n",
    "mean = int(np.mean(temp))\n",
    "\n",
    "for i in range(len(x)):\n",
    "    if data[i] not in temp:\n",
    "        data[i] = mean\n",
    "print(f\"Updated Data : {data}\")         # Outliers are replaced with mean of the remaining data points in the list."
   ]
  }
 ],
 "metadata": {
  "kernelspec": {
   "display_name": "Python 3",
   "language": "python",
   "name": "python3"
  },
  "language_info": {
   "codemirror_mode": {
    "name": "ipython",
    "version": 3
   },
   "file_extension": ".py",
   "mimetype": "text/x-python",
   "name": "python",
   "nbconvert_exporter": "python",
   "pygments_lexer": "ipython3",
   "version": "3.11.9"
  }
 },
 "nbformat": 4,
 "nbformat_minor": 2
}
